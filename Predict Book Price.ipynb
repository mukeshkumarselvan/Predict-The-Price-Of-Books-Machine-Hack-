{
 "cells": [
  {
   "cell_type": "code",
   "execution_count": 5,
   "metadata": {},
   "outputs": [],
   "source": [
    "# Necessary Library\n",
    "%matplotlib inline\n",
    "import pandas as pd\n",
    "import numpy as np\n",
    "import pandas_profiling\n",
    "import re\n",
    "from nltk.corpus import stopwords \n",
    "stop_words = stopwords.words('english')\n",
    "import string\n",
    "from sklearn.linear_model import LinearRegression\n",
    "import matplotlib.pyplot as plt \n",
    "from sklearn.model_selection import cross_val_score\n",
    "\n",
    "\n",
    "from sklearn.metrics import mean_squared_error\n",
    "\n",
    "from sklearn.linear_model import Lasso\n",
    "from sklearn.linear_model import Ridge\n",
    "from sklearn.linear_model import ElasticNet\n",
    "\n",
    "\n",
    "from sklearn.linear_model import LassoCV\n",
    "from sklearn.linear_model import RidgeCV\n",
    "\n",
    "\n",
    "plt.rc(\"font\", size=14)\n",
    "import seaborn as sns\n",
    "sns.set(style=\"white\")\n",
    "sns.set(style=\"whitegrid\", color_codes=True)"
   ]
  },
  {
   "cell_type": "code",
   "execution_count": 6,
   "metadata": {},
   "outputs": [],
   "source": [
    "#load the data to dataframe\n",
    "train = pd.read_excel(\"Data_Train.xlsx\")\n",
    "test = pd.read_excel(\"Data_Test.xlsx\")"
   ]
  },
  {
   "cell_type": "code",
   "execution_count": 7,
   "metadata": {},
   "outputs": [
    {
     "name": "stdout",
     "output_type": "stream",
     "text": [
      "<class 'pandas.core.frame.DataFrame'>\n",
      "RangeIndex: 6237 entries, 0 to 6236\n",
      "Data columns (total 9 columns):\n",
      "Title           6237 non-null object\n",
      "Author          6237 non-null object\n",
      "Edition         6237 non-null object\n",
      "Reviews         6237 non-null object\n",
      "Ratings         6237 non-null object\n",
      "Synopsis        6237 non-null object\n",
      "Genre           6237 non-null object\n",
      "BookCategory    6237 non-null object\n",
      "Price           6237 non-null float64\n",
      "dtypes: float64(1), object(8)\n",
      "memory usage: 438.6+ KB\n"
     ]
    }
   ],
   "source": [
    "train.info()"
   ]
  },
  {
   "cell_type": "code",
   "execution_count": 8,
   "metadata": {},
   "outputs": [
    {
     "data": {
      "text/html": [
       "<div>\n",
       "<style scoped>\n",
       "    .dataframe tbody tr th:only-of-type {\n",
       "        vertical-align: middle;\n",
       "    }\n",
       "\n",
       "    .dataframe tbody tr th {\n",
       "        vertical-align: top;\n",
       "    }\n",
       "\n",
       "    .dataframe thead th {\n",
       "        text-align: right;\n",
       "    }\n",
       "</style>\n",
       "<table border=\"1\" class=\"dataframe\">\n",
       "  <thead>\n",
       "    <tr style=\"text-align: right;\">\n",
       "      <th></th>\n",
       "      <th>Title</th>\n",
       "      <th>Author</th>\n",
       "      <th>Edition</th>\n",
       "      <th>Reviews</th>\n",
       "      <th>Ratings</th>\n",
       "      <th>Synopsis</th>\n",
       "      <th>Genre</th>\n",
       "      <th>BookCategory</th>\n",
       "      <th>Price</th>\n",
       "    </tr>\n",
       "  </thead>\n",
       "  <tbody>\n",
       "    <tr>\n",
       "      <th>count</th>\n",
       "      <td>6237</td>\n",
       "      <td>6237</td>\n",
       "      <td>6237</td>\n",
       "      <td>6237</td>\n",
       "      <td>6237</td>\n",
       "      <td>6237</td>\n",
       "      <td>6237</td>\n",
       "      <td>6237</td>\n",
       "      <td>6237.000000</td>\n",
       "    </tr>\n",
       "    <tr>\n",
       "      <th>unique</th>\n",
       "      <td>5568</td>\n",
       "      <td>3679</td>\n",
       "      <td>3370</td>\n",
       "      <td>36</td>\n",
       "      <td>342</td>\n",
       "      <td>5549</td>\n",
       "      <td>345</td>\n",
       "      <td>11</td>\n",
       "      <td>NaN</td>\n",
       "    </tr>\n",
       "    <tr>\n",
       "      <th>top</th>\n",
       "      <td>A Game of Thrones (A Song of Ice and Fire)</td>\n",
       "      <td>Agatha Christie</td>\n",
       "      <td>Paperback,– 5 Oct 2017</td>\n",
       "      <td>5.0 out of 5 stars</td>\n",
       "      <td>1 customer review</td>\n",
       "      <td>A Tinkle Double Digest is two Tinkle Digests i...</td>\n",
       "      <td>Action &amp; Adventure (Books)</td>\n",
       "      <td>Action &amp; Adventure</td>\n",
       "      <td>NaN</td>\n",
       "    </tr>\n",
       "    <tr>\n",
       "      <th>freq</th>\n",
       "      <td>4</td>\n",
       "      <td>69</td>\n",
       "      <td>48</td>\n",
       "      <td>1375</td>\n",
       "      <td>1040</td>\n",
       "      <td>8</td>\n",
       "      <td>947</td>\n",
       "      <td>818</td>\n",
       "      <td>NaN</td>\n",
       "    </tr>\n",
       "    <tr>\n",
       "      <th>mean</th>\n",
       "      <td>NaN</td>\n",
       "      <td>NaN</td>\n",
       "      <td>NaN</td>\n",
       "      <td>NaN</td>\n",
       "      <td>NaN</td>\n",
       "      <td>NaN</td>\n",
       "      <td>NaN</td>\n",
       "      <td>NaN</td>\n",
       "      <td>560.707516</td>\n",
       "    </tr>\n",
       "    <tr>\n",
       "      <th>std</th>\n",
       "      <td>NaN</td>\n",
       "      <td>NaN</td>\n",
       "      <td>NaN</td>\n",
       "      <td>NaN</td>\n",
       "      <td>NaN</td>\n",
       "      <td>NaN</td>\n",
       "      <td>NaN</td>\n",
       "      <td>NaN</td>\n",
       "      <td>690.110657</td>\n",
       "    </tr>\n",
       "    <tr>\n",
       "      <th>min</th>\n",
       "      <td>NaN</td>\n",
       "      <td>NaN</td>\n",
       "      <td>NaN</td>\n",
       "      <td>NaN</td>\n",
       "      <td>NaN</td>\n",
       "      <td>NaN</td>\n",
       "      <td>NaN</td>\n",
       "      <td>NaN</td>\n",
       "      <td>25.000000</td>\n",
       "    </tr>\n",
       "    <tr>\n",
       "      <th>25%</th>\n",
       "      <td>NaN</td>\n",
       "      <td>NaN</td>\n",
       "      <td>NaN</td>\n",
       "      <td>NaN</td>\n",
       "      <td>NaN</td>\n",
       "      <td>NaN</td>\n",
       "      <td>NaN</td>\n",
       "      <td>NaN</td>\n",
       "      <td>249.180000</td>\n",
       "    </tr>\n",
       "    <tr>\n",
       "      <th>50%</th>\n",
       "      <td>NaN</td>\n",
       "      <td>NaN</td>\n",
       "      <td>NaN</td>\n",
       "      <td>NaN</td>\n",
       "      <td>NaN</td>\n",
       "      <td>NaN</td>\n",
       "      <td>NaN</td>\n",
       "      <td>NaN</td>\n",
       "      <td>373.000000</td>\n",
       "    </tr>\n",
       "    <tr>\n",
       "      <th>75%</th>\n",
       "      <td>NaN</td>\n",
       "      <td>NaN</td>\n",
       "      <td>NaN</td>\n",
       "      <td>NaN</td>\n",
       "      <td>NaN</td>\n",
       "      <td>NaN</td>\n",
       "      <td>NaN</td>\n",
       "      <td>NaN</td>\n",
       "      <td>599.000000</td>\n",
       "    </tr>\n",
       "    <tr>\n",
       "      <th>max</th>\n",
       "      <td>NaN</td>\n",
       "      <td>NaN</td>\n",
       "      <td>NaN</td>\n",
       "      <td>NaN</td>\n",
       "      <td>NaN</td>\n",
       "      <td>NaN</td>\n",
       "      <td>NaN</td>\n",
       "      <td>NaN</td>\n",
       "      <td>14100.000000</td>\n",
       "    </tr>\n",
       "  </tbody>\n",
       "</table>\n",
       "</div>"
      ],
      "text/plain": [
       "                                             Title           Author  \\\n",
       "count                                         6237             6237   \n",
       "unique                                        5568             3679   \n",
       "top     A Game of Thrones (A Song of Ice and Fire)  Agatha Christie   \n",
       "freq                                             4               69   \n",
       "mean                                           NaN              NaN   \n",
       "std                                            NaN              NaN   \n",
       "min                                            NaN              NaN   \n",
       "25%                                            NaN              NaN   \n",
       "50%                                            NaN              NaN   \n",
       "75%                                            NaN              NaN   \n",
       "max                                            NaN              NaN   \n",
       "\n",
       "                       Edition             Reviews            Ratings  \\\n",
       "count                     6237                6237               6237   \n",
       "unique                    3370                  36                342   \n",
       "top     Paperback,– 5 Oct 2017  5.0 out of 5 stars  1 customer review   \n",
       "freq                        48                1375               1040   \n",
       "mean                       NaN                 NaN                NaN   \n",
       "std                        NaN                 NaN                NaN   \n",
       "min                        NaN                 NaN                NaN   \n",
       "25%                        NaN                 NaN                NaN   \n",
       "50%                        NaN                 NaN                NaN   \n",
       "75%                        NaN                 NaN                NaN   \n",
       "max                        NaN                 NaN                NaN   \n",
       "\n",
       "                                                 Synopsis  \\\n",
       "count                                                6237   \n",
       "unique                                               5549   \n",
       "top     A Tinkle Double Digest is two Tinkle Digests i...   \n",
       "freq                                                    8   \n",
       "mean                                                  NaN   \n",
       "std                                                   NaN   \n",
       "min                                                   NaN   \n",
       "25%                                                   NaN   \n",
       "50%                                                   NaN   \n",
       "75%                                                   NaN   \n",
       "max                                                   NaN   \n",
       "\n",
       "                             Genre        BookCategory         Price  \n",
       "count                         6237                6237   6237.000000  \n",
       "unique                         345                  11           NaN  \n",
       "top     Action & Adventure (Books)  Action & Adventure           NaN  \n",
       "freq                           947                 818           NaN  \n",
       "mean                           NaN                 NaN    560.707516  \n",
       "std                            NaN                 NaN    690.110657  \n",
       "min                            NaN                 NaN     25.000000  \n",
       "25%                            NaN                 NaN    249.180000  \n",
       "50%                            NaN                 NaN    373.000000  \n",
       "75%                            NaN                 NaN    599.000000  \n",
       "max                            NaN                 NaN  14100.000000  "
      ]
     },
     "execution_count": 8,
     "metadata": {},
     "output_type": "execute_result"
    }
   ],
   "source": [
    "train.describe(include ='all')"
   ]
  },
  {
   "cell_type": "code",
   "execution_count": 9,
   "metadata": {},
   "outputs": [
    {
     "data": {
      "text/html": [
       "<div>\n",
       "<style scoped>\n",
       "    .dataframe tbody tr th:only-of-type {\n",
       "        vertical-align: middle;\n",
       "    }\n",
       "\n",
       "    .dataframe tbody tr th {\n",
       "        vertical-align: top;\n",
       "    }\n",
       "\n",
       "    .dataframe thead th {\n",
       "        text-align: right;\n",
       "    }\n",
       "</style>\n",
       "<table border=\"1\" class=\"dataframe\">\n",
       "  <thead>\n",
       "    <tr style=\"text-align: right;\">\n",
       "      <th></th>\n",
       "      <th>Title</th>\n",
       "      <th>Author</th>\n",
       "      <th>Edition</th>\n",
       "      <th>Reviews</th>\n",
       "      <th>Ratings</th>\n",
       "      <th>Synopsis</th>\n",
       "      <th>Genre</th>\n",
       "      <th>BookCategory</th>\n",
       "    </tr>\n",
       "  </thead>\n",
       "  <tbody>\n",
       "    <tr>\n",
       "      <th>count</th>\n",
       "      <td>1560</td>\n",
       "      <td>1560</td>\n",
       "      <td>1560</td>\n",
       "      <td>1560</td>\n",
       "      <td>1560</td>\n",
       "      <td>1560</td>\n",
       "      <td>1560</td>\n",
       "      <td>1560</td>\n",
       "    </tr>\n",
       "    <tr>\n",
       "      <th>unique</th>\n",
       "      <td>1521</td>\n",
       "      <td>1224</td>\n",
       "      <td>1259</td>\n",
       "      <td>30</td>\n",
       "      <td>163</td>\n",
       "      <td>1519</td>\n",
       "      <td>225</td>\n",
       "      <td>11</td>\n",
       "    </tr>\n",
       "    <tr>\n",
       "      <th>top</th>\n",
       "      <td>The Five Greatest Warriors (Jack West Series)</td>\n",
       "      <td>Agatha Christie</td>\n",
       "      <td>Paperback,– 2016</td>\n",
       "      <td>5.0 out of 5 stars</td>\n",
       "      <td>1 customer review</td>\n",
       "      <td>The end is approaching ... Can Jack West unrav...</td>\n",
       "      <td>Action &amp; Adventure (Books)</td>\n",
       "      <td>Action &amp; Adventure</td>\n",
       "    </tr>\n",
       "    <tr>\n",
       "      <th>freq</th>\n",
       "      <td>3</td>\n",
       "      <td>18</td>\n",
       "      <td>12</td>\n",
       "      <td>376</td>\n",
       "      <td>288</td>\n",
       "      <td>3</td>\n",
       "      <td>236</td>\n",
       "      <td>218</td>\n",
       "    </tr>\n",
       "  </tbody>\n",
       "</table>\n",
       "</div>"
      ],
      "text/plain": [
       "                                                Title           Author  \\\n",
       "count                                            1560             1560   \n",
       "unique                                           1521             1224   \n",
       "top     The Five Greatest Warriors (Jack West Series)  Agatha Christie   \n",
       "freq                                                3               18   \n",
       "\n",
       "                 Edition             Reviews            Ratings  \\\n",
       "count               1560                1560               1560   \n",
       "unique              1259                  30                163   \n",
       "top     Paperback,– 2016  5.0 out of 5 stars  1 customer review   \n",
       "freq                  12                 376                288   \n",
       "\n",
       "                                                 Synopsis  \\\n",
       "count                                                1560   \n",
       "unique                                               1519   \n",
       "top     The end is approaching ... Can Jack West unrav...   \n",
       "freq                                                    3   \n",
       "\n",
       "                             Genre        BookCategory  \n",
       "count                         1560                1560  \n",
       "unique                         225                  11  \n",
       "top     Action & Adventure (Books)  Action & Adventure  \n",
       "freq                           236                 218  "
      ]
     },
     "execution_count": 9,
     "metadata": {},
     "output_type": "execute_result"
    }
   ],
   "source": [
    "test.describe(include ='all')"
   ]
  },
  {
   "cell_type": "code",
   "execution_count": 10,
   "metadata": {},
   "outputs": [
    {
     "data": {
      "text/plain": [
       "Index(['Title', 'Author', 'Edition', 'Reviews', 'Ratings', 'Synopsis', 'Genre',\n",
       "       'BookCategory', 'Price'],\n",
       "      dtype='object')"
      ]
     },
     "execution_count": 10,
     "metadata": {},
     "output_type": "execute_result"
    }
   ],
   "source": [
    "train.columns"
   ]
  },
  {
   "cell_type": "code",
   "execution_count": 11,
   "metadata": {},
   "outputs": [
    {
     "data": {
      "text/plain": [
       "Index(['Title', 'Author', 'Edition', 'Reviews', 'Ratings', 'Synopsis', 'Genre',\n",
       "       'BookCategory'],\n",
       "      dtype='object')"
      ]
     },
     "execution_count": 11,
     "metadata": {},
     "output_type": "execute_result"
    }
   ],
   "source": [
    "test.columns"
   ]
  },
  {
   "cell_type": "code",
   "execution_count": 12,
   "metadata": {},
   "outputs": [
    {
     "name": "stderr",
     "output_type": "stream",
     "text": [
      "C:\\ProgramData\\Anaconda3\\lib\\site-packages\\ipykernel_launcher.py:1: FutureWarning: Sorting because non-concatenation axis is not aligned. A future version\n",
      "of pandas will change to not sort by default.\n",
      "\n",
      "To accept the future behavior, pass 'sort=False'.\n",
      "\n",
      "To retain the current behavior and silence the warning, pass 'sort=True'.\n",
      "\n",
      "  \"\"\"Entry point for launching an IPython kernel.\n"
     ]
    }
   ],
   "source": [
    "df = pd.concat([train,test], axis = \"index\" )"
   ]
  },
  {
   "cell_type": "code",
   "execution_count": 13,
   "metadata": {},
   "outputs": [
    {
     "data": {
      "text/plain": [
       "Author             0\n",
       "BookCategory       0\n",
       "Edition            0\n",
       "Genre              0\n",
       "Price           1560\n",
       "Ratings            0\n",
       "Reviews            0\n",
       "Synopsis           0\n",
       "Title              0\n",
       "dtype: int64"
      ]
     },
     "execution_count": 13,
     "metadata": {},
     "output_type": "execute_result"
    }
   ],
   "source": [
    "df.isnull().sum()"
   ]
  },
  {
   "cell_type": "code",
   "execution_count": 14,
   "metadata": {},
   "outputs": [
    {
     "data": {
      "text/plain": [
       "8"
      ]
     },
     "execution_count": 14,
     "metadata": {},
     "output_type": "execute_result"
    }
   ],
   "source": [
    "test.duplicated().sum()"
   ]
  },
  {
   "cell_type": "code",
   "execution_count": 15,
   "metadata": {},
   "outputs": [
    {
     "data": {
      "text/html": [
       "<div>\n",
       "<style scoped>\n",
       "    .dataframe tbody tr th:only-of-type {\n",
       "        vertical-align: middle;\n",
       "    }\n",
       "\n",
       "    .dataframe tbody tr th {\n",
       "        vertical-align: top;\n",
       "    }\n",
       "\n",
       "    .dataframe thead th {\n",
       "        text-align: right;\n",
       "    }\n",
       "</style>\n",
       "<table border=\"1\" class=\"dataframe\">\n",
       "  <thead>\n",
       "    <tr style=\"text-align: right;\">\n",
       "      <th></th>\n",
       "      <th>Author</th>\n",
       "      <th>BookCategory</th>\n",
       "      <th>Edition</th>\n",
       "      <th>Genre</th>\n",
       "      <th>Price</th>\n",
       "      <th>Ratings</th>\n",
       "      <th>Reviews</th>\n",
       "      <th>Synopsis</th>\n",
       "      <th>Title</th>\n",
       "    </tr>\n",
       "  </thead>\n",
       "  <tbody>\n",
       "    <tr>\n",
       "      <th>0</th>\n",
       "      <td>Chris Kuzneski</td>\n",
       "      <td>Action &amp; Adventure</td>\n",
       "      <td>Paperback,– 10 Mar 2016</td>\n",
       "      <td>Action &amp; Adventure (Books)</td>\n",
       "      <td>220.00</td>\n",
       "      <td>8 customer reviews</td>\n",
       "      <td>4.0 out of 5 stars</td>\n",
       "      <td>THE HUNTERS return in their third brilliant no...</td>\n",
       "      <td>The Prisoner's Gold (The Hunters 3)</td>\n",
       "    </tr>\n",
       "    <tr>\n",
       "      <th>1</th>\n",
       "      <td>Arun Khopkar</td>\n",
       "      <td>Biographies, Diaries &amp; True Accounts</td>\n",
       "      <td>Paperback,– 7 Nov 2012</td>\n",
       "      <td>Cinema &amp; Broadcast (Books)</td>\n",
       "      <td>202.93</td>\n",
       "      <td>14 customer reviews</td>\n",
       "      <td>3.9 out of 5 stars</td>\n",
       "      <td>A layered portrait of a troubled genius for wh...</td>\n",
       "      <td>Guru Dutt: A Tragedy in Three Acts</td>\n",
       "    </tr>\n",
       "    <tr>\n",
       "      <th>2</th>\n",
       "      <td>Thomas Hobbes</td>\n",
       "      <td>Humour</td>\n",
       "      <td>Paperback,– 25 Feb 1982</td>\n",
       "      <td>International Relations</td>\n",
       "      <td>299.00</td>\n",
       "      <td>6 customer reviews</td>\n",
       "      <td>4.8 out of 5 stars</td>\n",
       "      <td>\"During the time men live without a common Pow...</td>\n",
       "      <td>Leviathan (Penguin Classics)</td>\n",
       "    </tr>\n",
       "    <tr>\n",
       "      <th>3</th>\n",
       "      <td>Agatha Christie</td>\n",
       "      <td>Crime, Thriller &amp; Mystery</td>\n",
       "      <td>Paperback,– 5 Oct 2017</td>\n",
       "      <td>Contemporary Fiction (Books)</td>\n",
       "      <td>180.00</td>\n",
       "      <td>13 customer reviews</td>\n",
       "      <td>4.1 out of 5 stars</td>\n",
       "      <td>A handful of grain is found in the pocket of a...</td>\n",
       "      <td>A Pocket Full of Rye (Miss Marple)</td>\n",
       "    </tr>\n",
       "    <tr>\n",
       "      <th>4</th>\n",
       "      <td>Editors of Life</td>\n",
       "      <td>Arts, Film &amp; Photography</td>\n",
       "      <td>Hardcover,– 10 Oct 2006</td>\n",
       "      <td>Photography Textbooks</td>\n",
       "      <td>965.62</td>\n",
       "      <td>1 customer review</td>\n",
       "      <td>5.0 out of 5 stars</td>\n",
       "      <td>For seven decades, \"Life\" has been thrilling t...</td>\n",
       "      <td>LIFE 70 Years of Extraordinary Photography</td>\n",
       "    </tr>\n",
       "  </tbody>\n",
       "</table>\n",
       "</div>"
      ],
      "text/plain": [
       "            Author                          BookCategory  \\\n",
       "0   Chris Kuzneski                    Action & Adventure   \n",
       "1     Arun Khopkar  Biographies, Diaries & True Accounts   \n",
       "2    Thomas Hobbes                                Humour   \n",
       "3  Agatha Christie             Crime, Thriller & Mystery   \n",
       "4  Editors of Life              Arts, Film & Photography   \n",
       "\n",
       "                   Edition                         Genre   Price  \\\n",
       "0  Paperback,– 10 Mar 2016    Action & Adventure (Books)  220.00   \n",
       "1   Paperback,– 7 Nov 2012    Cinema & Broadcast (Books)  202.93   \n",
       "2  Paperback,– 25 Feb 1982       International Relations  299.00   \n",
       "3   Paperback,– 5 Oct 2017  Contemporary Fiction (Books)  180.00   \n",
       "4  Hardcover,– 10 Oct 2006         Photography Textbooks  965.62   \n",
       "\n",
       "               Ratings             Reviews  \\\n",
       "0   8 customer reviews  4.0 out of 5 stars   \n",
       "1  14 customer reviews  3.9 out of 5 stars   \n",
       "2   6 customer reviews  4.8 out of 5 stars   \n",
       "3  13 customer reviews  4.1 out of 5 stars   \n",
       "4    1 customer review  5.0 out of 5 stars   \n",
       "\n",
       "                                            Synopsis  \\\n",
       "0  THE HUNTERS return in their third brilliant no...   \n",
       "1  A layered portrait of a troubled genius for wh...   \n",
       "2  \"During the time men live without a common Pow...   \n",
       "3  A handful of grain is found in the pocket of a...   \n",
       "4  For seven decades, \"Life\" has been thrilling t...   \n",
       "\n",
       "                                        Title  \n",
       "0         The Prisoner's Gold (The Hunters 3)  \n",
       "1          Guru Dutt: A Tragedy in Three Acts  \n",
       "2                Leviathan (Penguin Classics)  \n",
       "3          A Pocket Full of Rye (Miss Marple)  \n",
       "4  LIFE 70 Years of Extraordinary Photography  "
      ]
     },
     "execution_count": 15,
     "metadata": {},
     "output_type": "execute_result"
    }
   ],
   "source": [
    "df.head()"
   ]
  },
  {
   "cell_type": "code",
   "execution_count": 16,
   "metadata": {},
   "outputs": [
    {
     "data": {
      "text/html": [
       "<div>\n",
       "<style scoped>\n",
       "    .dataframe tbody tr th:only-of-type {\n",
       "        vertical-align: middle;\n",
       "    }\n",
       "\n",
       "    .dataframe tbody tr th {\n",
       "        vertical-align: top;\n",
       "    }\n",
       "\n",
       "    .dataframe thead th {\n",
       "        text-align: right;\n",
       "    }\n",
       "</style>\n",
       "<table border=\"1\" class=\"dataframe\">\n",
       "  <thead>\n",
       "    <tr style=\"text-align: right;\">\n",
       "      <th></th>\n",
       "      <th>Price</th>\n",
       "    </tr>\n",
       "  </thead>\n",
       "  <tbody>\n",
       "    <tr>\n",
       "      <th>Price</th>\n",
       "      <td>1.0</td>\n",
       "    </tr>\n",
       "  </tbody>\n",
       "</table>\n",
       "</div>"
      ],
      "text/plain": [
       "       Price\n",
       "Price    1.0"
      ]
     },
     "execution_count": 16,
     "metadata": {},
     "output_type": "execute_result"
    }
   ],
   "source": [
    "df.corr()"
   ]
  },
  {
   "cell_type": "code",
   "execution_count": 17,
   "metadata": {},
   "outputs": [
    {
     "data": {
      "text/plain": [
       "11"
      ]
     },
     "execution_count": 17,
     "metadata": {},
     "output_type": "execute_result"
    }
   ],
   "source": [
    "df[\"BookCategory\"].nunique()"
   ]
  },
  {
   "cell_type": "code",
   "execution_count": 18,
   "metadata": {},
   "outputs": [
    {
     "data": {
      "text/plain": [
       "4372"
      ]
     },
     "execution_count": 18,
     "metadata": {},
     "output_type": "execute_result"
    }
   ],
   "source": [
    "df[\"Author\"].nunique()"
   ]
  },
  {
   "cell_type": "code",
   "execution_count": 19,
   "metadata": {},
   "outputs": [
    {
     "name": "stdout",
     "output_type": "stream",
     "text": [
      "<class 'pandas.core.frame.DataFrame'>\n",
      "Int64Index: 7797 entries, 0 to 1559\n",
      "Data columns (total 9 columns):\n",
      "Author          7797 non-null object\n",
      "BookCategory    7797 non-null object\n",
      "Edition         7797 non-null object\n",
      "Genre           7797 non-null object\n",
      "Price           6237 non-null float64\n",
      "Ratings         7797 non-null object\n",
      "Reviews         7797 non-null object\n",
      "Synopsis        7797 non-null object\n",
      "Title           7797 non-null object\n",
      "dtypes: float64(1), object(8)\n",
      "memory usage: 609.1+ KB\n"
     ]
    }
   ],
   "source": [
    "df.info()"
   ]
  },
  {
   "cell_type": "code",
   "execution_count": 20,
   "metadata": {},
   "outputs": [
    {
     "data": {
      "text/html": [
       "<div>\n",
       "<style scoped>\n",
       "    .dataframe tbody tr th:only-of-type {\n",
       "        vertical-align: middle;\n",
       "    }\n",
       "\n",
       "    .dataframe tbody tr th {\n",
       "        vertical-align: top;\n",
       "    }\n",
       "\n",
       "    .dataframe thead th {\n",
       "        text-align: right;\n",
       "    }\n",
       "</style>\n",
       "<table border=\"1\" class=\"dataframe\">\n",
       "  <thead>\n",
       "    <tr style=\"text-align: right;\">\n",
       "      <th></th>\n",
       "      <th>Author</th>\n",
       "      <th>BookCategory</th>\n",
       "      <th>Edition</th>\n",
       "      <th>Genre</th>\n",
       "      <th>Price</th>\n",
       "      <th>Ratings</th>\n",
       "      <th>Reviews</th>\n",
       "      <th>Synopsis</th>\n",
       "      <th>Title</th>\n",
       "    </tr>\n",
       "  </thead>\n",
       "  <tbody>\n",
       "    <tr>\n",
       "      <th>count</th>\n",
       "      <td>7797</td>\n",
       "      <td>7797</td>\n",
       "      <td>7797</td>\n",
       "      <td>7797</td>\n",
       "      <td>6237.000000</td>\n",
       "      <td>7797</td>\n",
       "      <td>7797</td>\n",
       "      <td>7797</td>\n",
       "      <td>7797</td>\n",
       "    </tr>\n",
       "    <tr>\n",
       "      <th>unique</th>\n",
       "      <td>4372</td>\n",
       "      <td>11</td>\n",
       "      <td>3882</td>\n",
       "      <td>363</td>\n",
       "      <td>NaN</td>\n",
       "      <td>368</td>\n",
       "      <td>36</td>\n",
       "      <td>6771</td>\n",
       "      <td>6787</td>\n",
       "    </tr>\n",
       "    <tr>\n",
       "      <th>top</th>\n",
       "      <td>Agatha Christie</td>\n",
       "      <td>Action &amp; Adventure</td>\n",
       "      <td>Paperback,– 5 Oct 2017</td>\n",
       "      <td>Action &amp; Adventure (Books)</td>\n",
       "      <td>NaN</td>\n",
       "      <td>1 customer review</td>\n",
       "      <td>5.0 out of 5 stars</td>\n",
       "      <td>A Tinkle Double Digest is two Tinkle Digests i...</td>\n",
       "      <td>Complete Guide to Digital Photography</td>\n",
       "    </tr>\n",
       "    <tr>\n",
       "      <th>freq</th>\n",
       "      <td>87</td>\n",
       "      <td>1036</td>\n",
       "      <td>60</td>\n",
       "      <td>1183</td>\n",
       "      <td>NaN</td>\n",
       "      <td>1328</td>\n",
       "      <td>1751</td>\n",
       "      <td>8</td>\n",
       "      <td>4</td>\n",
       "    </tr>\n",
       "    <tr>\n",
       "      <th>mean</th>\n",
       "      <td>NaN</td>\n",
       "      <td>NaN</td>\n",
       "      <td>NaN</td>\n",
       "      <td>NaN</td>\n",
       "      <td>560.707516</td>\n",
       "      <td>NaN</td>\n",
       "      <td>NaN</td>\n",
       "      <td>NaN</td>\n",
       "      <td>NaN</td>\n",
       "    </tr>\n",
       "    <tr>\n",
       "      <th>std</th>\n",
       "      <td>NaN</td>\n",
       "      <td>NaN</td>\n",
       "      <td>NaN</td>\n",
       "      <td>NaN</td>\n",
       "      <td>690.110657</td>\n",
       "      <td>NaN</td>\n",
       "      <td>NaN</td>\n",
       "      <td>NaN</td>\n",
       "      <td>NaN</td>\n",
       "    </tr>\n",
       "    <tr>\n",
       "      <th>min</th>\n",
       "      <td>NaN</td>\n",
       "      <td>NaN</td>\n",
       "      <td>NaN</td>\n",
       "      <td>NaN</td>\n",
       "      <td>25.000000</td>\n",
       "      <td>NaN</td>\n",
       "      <td>NaN</td>\n",
       "      <td>NaN</td>\n",
       "      <td>NaN</td>\n",
       "    </tr>\n",
       "    <tr>\n",
       "      <th>25%</th>\n",
       "      <td>NaN</td>\n",
       "      <td>NaN</td>\n",
       "      <td>NaN</td>\n",
       "      <td>NaN</td>\n",
       "      <td>249.180000</td>\n",
       "      <td>NaN</td>\n",
       "      <td>NaN</td>\n",
       "      <td>NaN</td>\n",
       "      <td>NaN</td>\n",
       "    </tr>\n",
       "    <tr>\n",
       "      <th>50%</th>\n",
       "      <td>NaN</td>\n",
       "      <td>NaN</td>\n",
       "      <td>NaN</td>\n",
       "      <td>NaN</td>\n",
       "      <td>373.000000</td>\n",
       "      <td>NaN</td>\n",
       "      <td>NaN</td>\n",
       "      <td>NaN</td>\n",
       "      <td>NaN</td>\n",
       "    </tr>\n",
       "    <tr>\n",
       "      <th>75%</th>\n",
       "      <td>NaN</td>\n",
       "      <td>NaN</td>\n",
       "      <td>NaN</td>\n",
       "      <td>NaN</td>\n",
       "      <td>599.000000</td>\n",
       "      <td>NaN</td>\n",
       "      <td>NaN</td>\n",
       "      <td>NaN</td>\n",
       "      <td>NaN</td>\n",
       "    </tr>\n",
       "    <tr>\n",
       "      <th>max</th>\n",
       "      <td>NaN</td>\n",
       "      <td>NaN</td>\n",
       "      <td>NaN</td>\n",
       "      <td>NaN</td>\n",
       "      <td>14100.000000</td>\n",
       "      <td>NaN</td>\n",
       "      <td>NaN</td>\n",
       "      <td>NaN</td>\n",
       "      <td>NaN</td>\n",
       "    </tr>\n",
       "  </tbody>\n",
       "</table>\n",
       "</div>"
      ],
      "text/plain": [
       "                 Author        BookCategory                 Edition  \\\n",
       "count              7797                7797                    7797   \n",
       "unique             4372                  11                    3882   \n",
       "top     Agatha Christie  Action & Adventure  Paperback,– 5 Oct 2017   \n",
       "freq                 87                1036                      60   \n",
       "mean                NaN                 NaN                     NaN   \n",
       "std                 NaN                 NaN                     NaN   \n",
       "min                 NaN                 NaN                     NaN   \n",
       "25%                 NaN                 NaN                     NaN   \n",
       "50%                 NaN                 NaN                     NaN   \n",
       "75%                 NaN                 NaN                     NaN   \n",
       "max                 NaN                 NaN                     NaN   \n",
       "\n",
       "                             Genre         Price            Ratings  \\\n",
       "count                         7797   6237.000000               7797   \n",
       "unique                         363           NaN                368   \n",
       "top     Action & Adventure (Books)           NaN  1 customer review   \n",
       "freq                          1183           NaN               1328   \n",
       "mean                           NaN    560.707516                NaN   \n",
       "std                            NaN    690.110657                NaN   \n",
       "min                            NaN     25.000000                NaN   \n",
       "25%                            NaN    249.180000                NaN   \n",
       "50%                            NaN    373.000000                NaN   \n",
       "75%                            NaN    599.000000                NaN   \n",
       "max                            NaN  14100.000000                NaN   \n",
       "\n",
       "                   Reviews                                           Synopsis  \\\n",
       "count                 7797                                               7797   \n",
       "unique                  36                                               6771   \n",
       "top     5.0 out of 5 stars  A Tinkle Double Digest is two Tinkle Digests i...   \n",
       "freq                  1751                                                  8   \n",
       "mean                   NaN                                                NaN   \n",
       "std                    NaN                                                NaN   \n",
       "min                    NaN                                                NaN   \n",
       "25%                    NaN                                                NaN   \n",
       "50%                    NaN                                                NaN   \n",
       "75%                    NaN                                                NaN   \n",
       "max                    NaN                                                NaN   \n",
       "\n",
       "                                        Title  \n",
       "count                                    7797  \n",
       "unique                                   6787  \n",
       "top     Complete Guide to Digital Photography  \n",
       "freq                                        4  \n",
       "mean                                      NaN  \n",
       "std                                       NaN  \n",
       "min                                       NaN  \n",
       "25%                                       NaN  \n",
       "50%                                       NaN  \n",
       "75%                                       NaN  \n",
       "max                                       NaN  "
      ]
     },
     "execution_count": 20,
     "metadata": {},
     "output_type": "execute_result"
    }
   ],
   "source": [
    "df.describe(include='all')"
   ]
  },
  {
   "cell_type": "code",
   "execution_count": 21,
   "metadata": {},
   "outputs": [
    {
     "data": {
      "text/plain": [
       "11"
      ]
     },
     "execution_count": 21,
     "metadata": {},
     "output_type": "execute_result"
    }
   ],
   "source": [
    "df[\"BookCategory\"].nunique()"
   ]
  },
  {
   "cell_type": "code",
   "execution_count": 22,
   "metadata": {},
   "outputs": [
    {
     "data": {
      "text/plain": [
       "Author             0\n",
       "BookCategory       0\n",
       "Edition            0\n",
       "Genre              0\n",
       "Price           1560\n",
       "Ratings            0\n",
       "Reviews            0\n",
       "Synopsis           0\n",
       "Title              0\n",
       "dtype: int64"
      ]
     },
     "execution_count": 22,
     "metadata": {},
     "output_type": "execute_result"
    }
   ],
   "source": [
    "df.isna().sum()"
   ]
  },
  {
   "cell_type": "code",
   "execution_count": 23,
   "metadata": {},
   "outputs": [
    {
     "data": {
      "text/html": [
       "<div>\n",
       "<style scoped>\n",
       "    .dataframe tbody tr th:only-of-type {\n",
       "        vertical-align: middle;\n",
       "    }\n",
       "\n",
       "    .dataframe tbody tr th {\n",
       "        vertical-align: top;\n",
       "    }\n",
       "\n",
       "    .dataframe thead th {\n",
       "        text-align: right;\n",
       "    }\n",
       "</style>\n",
       "<table border=\"1\" class=\"dataframe\">\n",
       "  <thead>\n",
       "    <tr style=\"text-align: right;\">\n",
       "      <th></th>\n",
       "      <th>Author</th>\n",
       "      <th>BookCategory</th>\n",
       "      <th>Edition</th>\n",
       "      <th>Genre</th>\n",
       "      <th>Price</th>\n",
       "      <th>Ratings</th>\n",
       "      <th>Reviews</th>\n",
       "      <th>Synopsis</th>\n",
       "      <th>Title</th>\n",
       "    </tr>\n",
       "  </thead>\n",
       "  <tbody>\n",
       "    <tr>\n",
       "      <th>0</th>\n",
       "      <td>Chris Kuzneski</td>\n",
       "      <td>Action &amp; Adventure</td>\n",
       "      <td>Paperback,– 10 Mar 2016</td>\n",
       "      <td>Action &amp; Adventure (Books)</td>\n",
       "      <td>220.00</td>\n",
       "      <td>8 customer reviews</td>\n",
       "      <td>4.0 out of 5 stars</td>\n",
       "      <td>THE HUNTERS return in their third brilliant no...</td>\n",
       "      <td>The Prisoner's Gold (The Hunters 3)</td>\n",
       "    </tr>\n",
       "    <tr>\n",
       "      <th>1</th>\n",
       "      <td>Arun Khopkar</td>\n",
       "      <td>Biographies, Diaries &amp; True Accounts</td>\n",
       "      <td>Paperback,– 7 Nov 2012</td>\n",
       "      <td>Cinema &amp; Broadcast (Books)</td>\n",
       "      <td>202.93</td>\n",
       "      <td>14 customer reviews</td>\n",
       "      <td>3.9 out of 5 stars</td>\n",
       "      <td>A layered portrait of a troubled genius for wh...</td>\n",
       "      <td>Guru Dutt: A Tragedy in Three Acts</td>\n",
       "    </tr>\n",
       "    <tr>\n",
       "      <th>2</th>\n",
       "      <td>Thomas Hobbes</td>\n",
       "      <td>Humour</td>\n",
       "      <td>Paperback,– 25 Feb 1982</td>\n",
       "      <td>International Relations</td>\n",
       "      <td>299.00</td>\n",
       "      <td>6 customer reviews</td>\n",
       "      <td>4.8 out of 5 stars</td>\n",
       "      <td>\"During the time men live without a common Pow...</td>\n",
       "      <td>Leviathan (Penguin Classics)</td>\n",
       "    </tr>\n",
       "    <tr>\n",
       "      <th>3</th>\n",
       "      <td>Agatha Christie</td>\n",
       "      <td>Crime, Thriller &amp; Mystery</td>\n",
       "      <td>Paperback,– 5 Oct 2017</td>\n",
       "      <td>Contemporary Fiction (Books)</td>\n",
       "      <td>180.00</td>\n",
       "      <td>13 customer reviews</td>\n",
       "      <td>4.1 out of 5 stars</td>\n",
       "      <td>A handful of grain is found in the pocket of a...</td>\n",
       "      <td>A Pocket Full of Rye (Miss Marple)</td>\n",
       "    </tr>\n",
       "    <tr>\n",
       "      <th>4</th>\n",
       "      <td>Editors of Life</td>\n",
       "      <td>Arts, Film &amp; Photography</td>\n",
       "      <td>Hardcover,– 10 Oct 2006</td>\n",
       "      <td>Photography Textbooks</td>\n",
       "      <td>965.62</td>\n",
       "      <td>1 customer review</td>\n",
       "      <td>5.0 out of 5 stars</td>\n",
       "      <td>For seven decades, \"Life\" has been thrilling t...</td>\n",
       "      <td>LIFE 70 Years of Extraordinary Photography</td>\n",
       "    </tr>\n",
       "  </tbody>\n",
       "</table>\n",
       "</div>"
      ],
      "text/plain": [
       "            Author                          BookCategory  \\\n",
       "0   Chris Kuzneski                    Action & Adventure   \n",
       "1     Arun Khopkar  Biographies, Diaries & True Accounts   \n",
       "2    Thomas Hobbes                                Humour   \n",
       "3  Agatha Christie             Crime, Thriller & Mystery   \n",
       "4  Editors of Life              Arts, Film & Photography   \n",
       "\n",
       "                   Edition                         Genre   Price  \\\n",
       "0  Paperback,– 10 Mar 2016    Action & Adventure (Books)  220.00   \n",
       "1   Paperback,– 7 Nov 2012    Cinema & Broadcast (Books)  202.93   \n",
       "2  Paperback,– 25 Feb 1982       International Relations  299.00   \n",
       "3   Paperback,– 5 Oct 2017  Contemporary Fiction (Books)  180.00   \n",
       "4  Hardcover,– 10 Oct 2006         Photography Textbooks  965.62   \n",
       "\n",
       "               Ratings             Reviews  \\\n",
       "0   8 customer reviews  4.0 out of 5 stars   \n",
       "1  14 customer reviews  3.9 out of 5 stars   \n",
       "2   6 customer reviews  4.8 out of 5 stars   \n",
       "3  13 customer reviews  4.1 out of 5 stars   \n",
       "4    1 customer review  5.0 out of 5 stars   \n",
       "\n",
       "                                            Synopsis  \\\n",
       "0  THE HUNTERS return in their third brilliant no...   \n",
       "1  A layered portrait of a troubled genius for wh...   \n",
       "2  \"During the time men live without a common Pow...   \n",
       "3  A handful of grain is found in the pocket of a...   \n",
       "4  For seven decades, \"Life\" has been thrilling t...   \n",
       "\n",
       "                                        Title  \n",
       "0         The Prisoner's Gold (The Hunters 3)  \n",
       "1          Guru Dutt: A Tragedy in Three Acts  \n",
       "2                Leviathan (Penguin Classics)  \n",
       "3          A Pocket Full of Rye (Miss Marple)  \n",
       "4  LIFE 70 Years of Extraordinary Photography  "
      ]
     },
     "execution_count": 23,
     "metadata": {},
     "output_type": "execute_result"
    }
   ],
   "source": [
    "df.head()"
   ]
  },
  {
   "cell_type": "code",
   "execution_count": 24,
   "metadata": {},
   "outputs": [],
   "source": [
    "def no_of_occ(data):\n",
    "    data = [i.split(\",\") for i in data]\n",
    "    max = 1\n",
    "    for i in data:\n",
    "      if len(i) >= max:\n",
    "        max = len(i)\n",
    "    print(\"Max. number of data for a single boook = \",max)"
   ]
  },
  {
   "cell_type": "code",
   "execution_count": null,
   "metadata": {},
   "outputs": [],
   "source": []
  },
  {
   "cell_type": "markdown",
   "metadata": {},
   "source": [
    "### Splitting Synopsis"
   ]
  },
  {
   "cell_type": "code",
   "execution_count": null,
   "metadata": {},
   "outputs": [],
   "source": []
  },
  {
   "cell_type": "code",
   "execution_count": null,
   "metadata": {},
   "outputs": [],
   "source": []
  },
  {
   "cell_type": "markdown",
   "metadata": {},
   "source": [
    "### Splitting Title"
   ]
  },
  {
   "cell_type": "code",
   "execution_count": null,
   "metadata": {},
   "outputs": [],
   "source": []
  },
  {
   "cell_type": "code",
   "execution_count": null,
   "metadata": {},
   "outputs": [],
   "source": []
  },
  {
   "cell_type": "code",
   "execution_count": null,
   "metadata": {},
   "outputs": [],
   "source": []
  },
  {
   "cell_type": "code",
   "execution_count": 25,
   "metadata": {},
   "outputs": [],
   "source": [
    "def split_Author(data):\n",
    "    A1,A2,A3,A4,A5,A6,A7 = [],[],[],[],[],[],[]\n",
    "    for i in data:\n",
    "        try :\n",
    "          A1.append(i.split(',')[0].strip().upper())\n",
    "        except :\n",
    "          A1.append('NONE')\n",
    "\n",
    "        try :\n",
    "          A2.append(i.split(',')[1].strip().upper())\n",
    "        except :\n",
    "          A2.append('NONE')\n",
    "\n",
    "        try :\n",
    "          A3.append(i.split(',')[2].strip().upper())\n",
    "        except :\n",
    "          A3.append('NONE')\n",
    "\n",
    "        try :\n",
    "          A4.append(i.split(',')[3].strip().upper())\n",
    "        except :\n",
    "          A4.append('NONE')\n",
    "\n",
    "        try :\n",
    "          A5.append(i.split(',')[4].strip().upper())\n",
    "        except :\n",
    "          A5.append('NONE')\n",
    "\n",
    "        try :\n",
    "          A6.append(i.split(',')[5].strip().upper())\n",
    "        except :\n",
    "          A6.append('NONE')\n",
    "\n",
    "        try :\n",
    "          A7.append(i.split(',')[6].strip().upper())\n",
    "        except :\n",
    "          A7.append('NONE')\n",
    "    return A1,A2,A3,A4,A5,A6,A7\n"
   ]
  },
  {
   "cell_type": "code",
   "execution_count": 26,
   "metadata": {},
   "outputs": [],
   "source": [
    "A1,A2,A3,A4,A5,A6,A7 = split_Author(df[\"Author\"])"
   ]
  },
  {
   "cell_type": "code",
   "execution_count": 27,
   "metadata": {},
   "outputs": [
    {
     "data": {
      "text/html": [
       "<div>\n",
       "<style scoped>\n",
       "    .dataframe tbody tr th:only-of-type {\n",
       "        vertical-align: middle;\n",
       "    }\n",
       "\n",
       "    .dataframe tbody tr th {\n",
       "        vertical-align: top;\n",
       "    }\n",
       "\n",
       "    .dataframe thead th {\n",
       "        text-align: right;\n",
       "    }\n",
       "</style>\n",
       "<table border=\"1\" class=\"dataframe\">\n",
       "  <thead>\n",
       "    <tr style=\"text-align: right;\">\n",
       "      <th></th>\n",
       "      <th>Author</th>\n",
       "      <th>BookCategory</th>\n",
       "      <th>Edition</th>\n",
       "      <th>Genre</th>\n",
       "      <th>Price</th>\n",
       "      <th>Ratings</th>\n",
       "      <th>Reviews</th>\n",
       "      <th>Synopsis</th>\n",
       "      <th>Title</th>\n",
       "    </tr>\n",
       "  </thead>\n",
       "  <tbody>\n",
       "    <tr>\n",
       "      <th>0</th>\n",
       "      <td>Chris Kuzneski</td>\n",
       "      <td>Action &amp; Adventure</td>\n",
       "      <td>Paperback,– 10 Mar 2016</td>\n",
       "      <td>Action &amp; Adventure (Books)</td>\n",
       "      <td>220.00</td>\n",
       "      <td>8 customer reviews</td>\n",
       "      <td>4.0 out of 5 stars</td>\n",
       "      <td>THE HUNTERS return in their third brilliant no...</td>\n",
       "      <td>The Prisoner's Gold (The Hunters 3)</td>\n",
       "    </tr>\n",
       "    <tr>\n",
       "      <th>1</th>\n",
       "      <td>Arun Khopkar</td>\n",
       "      <td>Biographies, Diaries &amp; True Accounts</td>\n",
       "      <td>Paperback,– 7 Nov 2012</td>\n",
       "      <td>Cinema &amp; Broadcast (Books)</td>\n",
       "      <td>202.93</td>\n",
       "      <td>14 customer reviews</td>\n",
       "      <td>3.9 out of 5 stars</td>\n",
       "      <td>A layered portrait of a troubled genius for wh...</td>\n",
       "      <td>Guru Dutt: A Tragedy in Three Acts</td>\n",
       "    </tr>\n",
       "    <tr>\n",
       "      <th>2</th>\n",
       "      <td>Thomas Hobbes</td>\n",
       "      <td>Humour</td>\n",
       "      <td>Paperback,– 25 Feb 1982</td>\n",
       "      <td>International Relations</td>\n",
       "      <td>299.00</td>\n",
       "      <td>6 customer reviews</td>\n",
       "      <td>4.8 out of 5 stars</td>\n",
       "      <td>\"During the time men live without a common Pow...</td>\n",
       "      <td>Leviathan (Penguin Classics)</td>\n",
       "    </tr>\n",
       "    <tr>\n",
       "      <th>3</th>\n",
       "      <td>Agatha Christie</td>\n",
       "      <td>Crime, Thriller &amp; Mystery</td>\n",
       "      <td>Paperback,– 5 Oct 2017</td>\n",
       "      <td>Contemporary Fiction (Books)</td>\n",
       "      <td>180.00</td>\n",
       "      <td>13 customer reviews</td>\n",
       "      <td>4.1 out of 5 stars</td>\n",
       "      <td>A handful of grain is found in the pocket of a...</td>\n",
       "      <td>A Pocket Full of Rye (Miss Marple)</td>\n",
       "    </tr>\n",
       "    <tr>\n",
       "      <th>4</th>\n",
       "      <td>Editors of Life</td>\n",
       "      <td>Arts, Film &amp; Photography</td>\n",
       "      <td>Hardcover,– 10 Oct 2006</td>\n",
       "      <td>Photography Textbooks</td>\n",
       "      <td>965.62</td>\n",
       "      <td>1 customer review</td>\n",
       "      <td>5.0 out of 5 stars</td>\n",
       "      <td>For seven decades, \"Life\" has been thrilling t...</td>\n",
       "      <td>LIFE 70 Years of Extraordinary Photography</td>\n",
       "    </tr>\n",
       "  </tbody>\n",
       "</table>\n",
       "</div>"
      ],
      "text/plain": [
       "            Author                          BookCategory  \\\n",
       "0   Chris Kuzneski                    Action & Adventure   \n",
       "1     Arun Khopkar  Biographies, Diaries & True Accounts   \n",
       "2    Thomas Hobbes                                Humour   \n",
       "3  Agatha Christie             Crime, Thriller & Mystery   \n",
       "4  Editors of Life              Arts, Film & Photography   \n",
       "\n",
       "                   Edition                         Genre   Price  \\\n",
       "0  Paperback,– 10 Mar 2016    Action & Adventure (Books)  220.00   \n",
       "1   Paperback,– 7 Nov 2012    Cinema & Broadcast (Books)  202.93   \n",
       "2  Paperback,– 25 Feb 1982       International Relations  299.00   \n",
       "3   Paperback,– 5 Oct 2017  Contemporary Fiction (Books)  180.00   \n",
       "4  Hardcover,– 10 Oct 2006         Photography Textbooks  965.62   \n",
       "\n",
       "               Ratings             Reviews  \\\n",
       "0   8 customer reviews  4.0 out of 5 stars   \n",
       "1  14 customer reviews  3.9 out of 5 stars   \n",
       "2   6 customer reviews  4.8 out of 5 stars   \n",
       "3  13 customer reviews  4.1 out of 5 stars   \n",
       "4    1 customer review  5.0 out of 5 stars   \n",
       "\n",
       "                                            Synopsis  \\\n",
       "0  THE HUNTERS return in their third brilliant no...   \n",
       "1  A layered portrait of a troubled genius for wh...   \n",
       "2  \"During the time men live without a common Pow...   \n",
       "3  A handful of grain is found in the pocket of a...   \n",
       "4  For seven decades, \"Life\" has been thrilling t...   \n",
       "\n",
       "                                        Title  \n",
       "0         The Prisoner's Gold (The Hunters 3)  \n",
       "1          Guru Dutt: A Tragedy in Three Acts  \n",
       "2                Leviathan (Penguin Classics)  \n",
       "3          A Pocket Full of Rye (Miss Marple)  \n",
       "4  LIFE 70 Years of Extraordinary Photography  "
      ]
     },
     "execution_count": 27,
     "metadata": {},
     "output_type": "execute_result"
    }
   ],
   "source": [
    "df.head()"
   ]
  },
  {
   "cell_type": "markdown",
   "metadata": {},
   "source": [
    "## Spliting BookCategory"
   ]
  },
  {
   "cell_type": "code",
   "execution_count": 28,
   "metadata": {},
   "outputs": [
    {
     "name": "stdout",
     "output_type": "stream",
     "text": [
      "Max. number of data for a single boook =  2\n"
     ]
    }
   ],
   "source": [
    "#Finding Max number of BookCategory in Single Book\n",
    "no_of_occ(df[\"BookCategory\"])"
   ]
  },
  {
   "cell_type": "code",
   "execution_count": 29,
   "metadata": {},
   "outputs": [],
   "source": [
    "def split_categories(data):\n",
    "  \n",
    "  cat = list(data)\n",
    "  \n",
    "  C1 = []\n",
    "  C2 = []\n",
    "\n",
    "  for i in cat: \n",
    "    try :\n",
    "      C1.append(i.split(',')[0].strip().upper())\n",
    "    except :\n",
    "      C1.append('NONE')\n",
    "      \n",
    "    try :\n",
    "      C2.append(i.split(',')[1].strip().upper())\n",
    "    except :\n",
    "      C2.append('NONE')\n",
    "  return C1,C2"
   ]
  },
  {
   "cell_type": "code",
   "execution_count": 30,
   "metadata": {},
   "outputs": [],
   "source": [
    "def split_edition(data):\n",
    "    ed_type = [i.split(\",– \")[0].strip().upper() for i in data]\n",
    "    edit_date = [i.split(\",– \")[1].strip() for i in data]\n",
    "    m_y = [i.split()[-2:] for i in edit_date]\n",
    "\n",
    "    for i in range(len(m_y)):\n",
    "        if len(m_y[i]) == 1:\n",
    "            m_y[i].insert(0,'NA')\n",
    "    \n",
    "    # Based on the given dataset below is the list of possible values for Months\n",
    "    months =  ['Apr','Aug','Dec','Feb', 'Jan', 'Jul','Jun','Mar','May','NA','Nov','Oct','Sep']\n",
    "\n",
    "    ed_month = [m_y[i][0].upper() if m_y[i][0] in months else 'NA' for i in range(len(m_y))]\n",
    "    ed_year = [m_y[i][1].strip() if m_y[i][1].isdigit() else 0 for i in range(len(m_y))]\n",
    "    return ed_type,ed_month,ed_year"
   ]
  },
  {
   "cell_type": "code",
   "execution_count": null,
   "metadata": {},
   "outputs": [],
   "source": []
  },
  {
   "cell_type": "code",
   "execution_count": null,
   "metadata": {},
   "outputs": [],
   "source": []
  },
  {
   "cell_type": "markdown",
   "metadata": {},
   "source": [
    "## Split Genre"
   ]
  },
  {
   "cell_type": "code",
   "execution_count": 31,
   "metadata": {},
   "outputs": [
    {
     "name": "stdout",
     "output_type": "stream",
     "text": [
      "Max. number of data for a single boook =  2\n"
     ]
    }
   ],
   "source": [
    "#Finding Max number of Genre in Single Book\n",
    "no_of_occ(df[\"Genre\"])"
   ]
  },
  {
   "cell_type": "code",
   "execution_count": 32,
   "metadata": {},
   "outputs": [],
   "source": [
    "def split_genre(data):\n",
    "    genre1 = []\n",
    "    genre2 = []    \n",
    "    for i in data:    \n",
    "        try :\n",
    "          genre1.append(i.split(',')[0].strip().upper())\n",
    "        except :\n",
    "          genre1.append('NONE')\n",
    "\n",
    "        try :\n",
    "          genre2.append(i.split(',')[1].strip().upper())\n",
    "        except :\n",
    "          genre2.append('NONE')\n",
    "\n",
    "    return genre1,genre2 "
   ]
  },
  {
   "cell_type": "code",
   "execution_count": 33,
   "metadata": {},
   "outputs": [],
   "source": [
    "import re\n",
    "#Cleaning the cloumns\n",
    "\n",
    "a1,a2,a3,a4,a5,a6,a7 = split_Author(df[\"Author\"])\n",
    "\n",
    "b1,b2 = split_categories(df[\"BookCategory\"])\n",
    "\n",
    "ed_type,ed_month,ed_year = split_edition(df[\"Edition\"])\n",
    "\n",
    "gen1, gen2 = split_genre(df[\"Genre\"])\n",
    "\n",
    "rating= list(df[\"Ratings\"])\n",
    "rating_word = \"customer reviews\"\n",
    "rating = [re.sub(\"customer reviews\",\"\",i) if rating_word in i else re.sub(\"customer review\",\"\",i) for i in rating]\n",
    "rating = [int(re.sub(\",\",\"\",i).strip()) for i in rating]\n",
    "\n",
    "reviews = list(df[\"Reviews\"])\n",
    "reviews = [float(re.sub(\" out of 5 stars\",\"\",i)) for i in reviews]\n",
    "\n",
    "titles = list(df['Title'])\n",
    "titles = [title.strip().upper() for title in titles]\n",
    "\n",
    "price = list(df[\"Price\"])\n",
    "df[\"Edition_Type\"]=ed_type\n",
    "df[\"Edition_Month\"]=ed_month\n",
    "df[\"Edition_Year\"]=ed_year\n",
    "df[\"Category1\"]=b1\n",
    "df[\"Category2\"]=b2\n",
    "df[\"Genre1\"]=gen1\n",
    "df[\"Genre2\"]=gen2\n",
    "df[\"Reviews\"]=reviews\n",
    "df[\"Ratings\"]=rating\n",
    "df[\"Author1\"]=a1\n",
    "df[\"Author2\"]=a2\n",
    "df[\"Author3\"]=a3\n",
    "df[\"Author4\"]=a4\n",
    "df[\"Author5\"]=a5\n",
    "df[\"Author6\"]=a6\n",
    "df[\"Author7\"]=a7"
   ]
  },
  {
   "cell_type": "code",
   "execution_count": 34,
   "metadata": {},
   "outputs": [
    {
     "data": {
      "text/html": [
       "<div>\n",
       "<style scoped>\n",
       "    .dataframe tbody tr th:only-of-type {\n",
       "        vertical-align: middle;\n",
       "    }\n",
       "\n",
       "    .dataframe tbody tr th {\n",
       "        vertical-align: top;\n",
       "    }\n",
       "\n",
       "    .dataframe thead th {\n",
       "        text-align: right;\n",
       "    }\n",
       "</style>\n",
       "<table border=\"1\" class=\"dataframe\">\n",
       "  <thead>\n",
       "    <tr style=\"text-align: right;\">\n",
       "      <th></th>\n",
       "      <th>Author</th>\n",
       "      <th>BookCategory</th>\n",
       "      <th>Edition</th>\n",
       "      <th>Genre</th>\n",
       "      <th>Price</th>\n",
       "      <th>Ratings</th>\n",
       "      <th>Reviews</th>\n",
       "      <th>Synopsis</th>\n",
       "      <th>Title</th>\n",
       "      <th>Edition_Type</th>\n",
       "      <th>...</th>\n",
       "      <th>Category2</th>\n",
       "      <th>Genre1</th>\n",
       "      <th>Genre2</th>\n",
       "      <th>Author1</th>\n",
       "      <th>Author2</th>\n",
       "      <th>Author3</th>\n",
       "      <th>Author4</th>\n",
       "      <th>Author5</th>\n",
       "      <th>Author6</th>\n",
       "      <th>Author7</th>\n",
       "    </tr>\n",
       "  </thead>\n",
       "  <tbody>\n",
       "    <tr>\n",
       "      <th>0</th>\n",
       "      <td>Chris Kuzneski</td>\n",
       "      <td>Action &amp; Adventure</td>\n",
       "      <td>Paperback,– 10 Mar 2016</td>\n",
       "      <td>Action &amp; Adventure (Books)</td>\n",
       "      <td>220.00</td>\n",
       "      <td>8</td>\n",
       "      <td>4.0</td>\n",
       "      <td>THE HUNTERS return in their third brilliant no...</td>\n",
       "      <td>The Prisoner's Gold (The Hunters 3)</td>\n",
       "      <td>PAPERBACK</td>\n",
       "      <td>...</td>\n",
       "      <td>NONE</td>\n",
       "      <td>ACTION &amp; ADVENTURE (BOOKS)</td>\n",
       "      <td>NONE</td>\n",
       "      <td>CHRIS KUZNESKI</td>\n",
       "      <td>NONE</td>\n",
       "      <td>NONE</td>\n",
       "      <td>NONE</td>\n",
       "      <td>NONE</td>\n",
       "      <td>NONE</td>\n",
       "      <td>NONE</td>\n",
       "    </tr>\n",
       "    <tr>\n",
       "      <th>1</th>\n",
       "      <td>Arun Khopkar</td>\n",
       "      <td>Biographies, Diaries &amp; True Accounts</td>\n",
       "      <td>Paperback,– 7 Nov 2012</td>\n",
       "      <td>Cinema &amp; Broadcast (Books)</td>\n",
       "      <td>202.93</td>\n",
       "      <td>14</td>\n",
       "      <td>3.9</td>\n",
       "      <td>A layered portrait of a troubled genius for wh...</td>\n",
       "      <td>Guru Dutt: A Tragedy in Three Acts</td>\n",
       "      <td>PAPERBACK</td>\n",
       "      <td>...</td>\n",
       "      <td>DIARIES &amp; TRUE ACCOUNTS</td>\n",
       "      <td>CINEMA &amp; BROADCAST (BOOKS)</td>\n",
       "      <td>NONE</td>\n",
       "      <td>ARUN KHOPKAR</td>\n",
       "      <td>NONE</td>\n",
       "      <td>NONE</td>\n",
       "      <td>NONE</td>\n",
       "      <td>NONE</td>\n",
       "      <td>NONE</td>\n",
       "      <td>NONE</td>\n",
       "    </tr>\n",
       "    <tr>\n",
       "      <th>2</th>\n",
       "      <td>Thomas Hobbes</td>\n",
       "      <td>Humour</td>\n",
       "      <td>Paperback,– 25 Feb 1982</td>\n",
       "      <td>International Relations</td>\n",
       "      <td>299.00</td>\n",
       "      <td>6</td>\n",
       "      <td>4.8</td>\n",
       "      <td>\"During the time men live without a common Pow...</td>\n",
       "      <td>Leviathan (Penguin Classics)</td>\n",
       "      <td>PAPERBACK</td>\n",
       "      <td>...</td>\n",
       "      <td>NONE</td>\n",
       "      <td>INTERNATIONAL RELATIONS</td>\n",
       "      <td>NONE</td>\n",
       "      <td>THOMAS HOBBES</td>\n",
       "      <td>NONE</td>\n",
       "      <td>NONE</td>\n",
       "      <td>NONE</td>\n",
       "      <td>NONE</td>\n",
       "      <td>NONE</td>\n",
       "      <td>NONE</td>\n",
       "    </tr>\n",
       "    <tr>\n",
       "      <th>3</th>\n",
       "      <td>Agatha Christie</td>\n",
       "      <td>Crime, Thriller &amp; Mystery</td>\n",
       "      <td>Paperback,– 5 Oct 2017</td>\n",
       "      <td>Contemporary Fiction (Books)</td>\n",
       "      <td>180.00</td>\n",
       "      <td>13</td>\n",
       "      <td>4.1</td>\n",
       "      <td>A handful of grain is found in the pocket of a...</td>\n",
       "      <td>A Pocket Full of Rye (Miss Marple)</td>\n",
       "      <td>PAPERBACK</td>\n",
       "      <td>...</td>\n",
       "      <td>THRILLER &amp; MYSTERY</td>\n",
       "      <td>CONTEMPORARY FICTION (BOOKS)</td>\n",
       "      <td>NONE</td>\n",
       "      <td>AGATHA CHRISTIE</td>\n",
       "      <td>NONE</td>\n",
       "      <td>NONE</td>\n",
       "      <td>NONE</td>\n",
       "      <td>NONE</td>\n",
       "      <td>NONE</td>\n",
       "      <td>NONE</td>\n",
       "    </tr>\n",
       "    <tr>\n",
       "      <th>4</th>\n",
       "      <td>Editors of Life</td>\n",
       "      <td>Arts, Film &amp; Photography</td>\n",
       "      <td>Hardcover,– 10 Oct 2006</td>\n",
       "      <td>Photography Textbooks</td>\n",
       "      <td>965.62</td>\n",
       "      <td>1</td>\n",
       "      <td>5.0</td>\n",
       "      <td>For seven decades, \"Life\" has been thrilling t...</td>\n",
       "      <td>LIFE 70 Years of Extraordinary Photography</td>\n",
       "      <td>HARDCOVER</td>\n",
       "      <td>...</td>\n",
       "      <td>FILM &amp; PHOTOGRAPHY</td>\n",
       "      <td>PHOTOGRAPHY TEXTBOOKS</td>\n",
       "      <td>NONE</td>\n",
       "      <td>EDITORS OF LIFE</td>\n",
       "      <td>NONE</td>\n",
       "      <td>NONE</td>\n",
       "      <td>NONE</td>\n",
       "      <td>NONE</td>\n",
       "      <td>NONE</td>\n",
       "      <td>NONE</td>\n",
       "    </tr>\n",
       "  </tbody>\n",
       "</table>\n",
       "<p>5 rows × 23 columns</p>\n",
       "</div>"
      ],
      "text/plain": [
       "            Author                          BookCategory  \\\n",
       "0   Chris Kuzneski                    Action & Adventure   \n",
       "1     Arun Khopkar  Biographies, Diaries & True Accounts   \n",
       "2    Thomas Hobbes                                Humour   \n",
       "3  Agatha Christie             Crime, Thriller & Mystery   \n",
       "4  Editors of Life              Arts, Film & Photography   \n",
       "\n",
       "                   Edition                         Genre   Price  Ratings  \\\n",
       "0  Paperback,– 10 Mar 2016    Action & Adventure (Books)  220.00        8   \n",
       "1   Paperback,– 7 Nov 2012    Cinema & Broadcast (Books)  202.93       14   \n",
       "2  Paperback,– 25 Feb 1982       International Relations  299.00        6   \n",
       "3   Paperback,– 5 Oct 2017  Contemporary Fiction (Books)  180.00       13   \n",
       "4  Hardcover,– 10 Oct 2006         Photography Textbooks  965.62        1   \n",
       "\n",
       "   Reviews                                           Synopsis  \\\n",
       "0      4.0  THE HUNTERS return in their third brilliant no...   \n",
       "1      3.9  A layered portrait of a troubled genius for wh...   \n",
       "2      4.8  \"During the time men live without a common Pow...   \n",
       "3      4.1  A handful of grain is found in the pocket of a...   \n",
       "4      5.0  For seven decades, \"Life\" has been thrilling t...   \n",
       "\n",
       "                                        Title Edition_Type  ...  \\\n",
       "0         The Prisoner's Gold (The Hunters 3)    PAPERBACK  ...   \n",
       "1          Guru Dutt: A Tragedy in Three Acts    PAPERBACK  ...   \n",
       "2                Leviathan (Penguin Classics)    PAPERBACK  ...   \n",
       "3          A Pocket Full of Rye (Miss Marple)    PAPERBACK  ...   \n",
       "4  LIFE 70 Years of Extraordinary Photography    HARDCOVER  ...   \n",
       "\n",
       "                 Category2                        Genre1 Genre2  \\\n",
       "0                     NONE    ACTION & ADVENTURE (BOOKS)   NONE   \n",
       "1  DIARIES & TRUE ACCOUNTS    CINEMA & BROADCAST (BOOKS)   NONE   \n",
       "2                     NONE       INTERNATIONAL RELATIONS   NONE   \n",
       "3       THRILLER & MYSTERY  CONTEMPORARY FICTION (BOOKS)   NONE   \n",
       "4       FILM & PHOTOGRAPHY         PHOTOGRAPHY TEXTBOOKS   NONE   \n",
       "\n",
       "           Author1 Author2 Author3 Author4 Author5 Author6 Author7  \n",
       "0   CHRIS KUZNESKI    NONE    NONE    NONE    NONE    NONE    NONE  \n",
       "1     ARUN KHOPKAR    NONE    NONE    NONE    NONE    NONE    NONE  \n",
       "2    THOMAS HOBBES    NONE    NONE    NONE    NONE    NONE    NONE  \n",
       "3  AGATHA CHRISTIE    NONE    NONE    NONE    NONE    NONE    NONE  \n",
       "4  EDITORS OF LIFE    NONE    NONE    NONE    NONE    NONE    NONE  \n",
       "\n",
       "[5 rows x 23 columns]"
      ]
     },
     "execution_count": 34,
     "metadata": {},
     "output_type": "execute_result"
    }
   ],
   "source": [
    "df.head()"
   ]
  },
  {
   "cell_type": "code",
   "execution_count": 35,
   "metadata": {},
   "outputs": [],
   "source": [
    "df = df.drop(columns={'Author', 'BookCategory', 'Edition', 'Genre','Ratings','Reviews', 'Synopsis', 'Title'})"
   ]
  },
  {
   "cell_type": "code",
   "execution_count": 36,
   "metadata": {},
   "outputs": [
    {
     "data": {
      "text/plain": [
       "array(['PAPERBACK', 'HARDCOVER', 'MASS MARKET PAPERBACK', 'SHEET MUSIC',\n",
       "       'FLEXIBOUND', 'PLASTIC COMB', 'LOOSE LEAF', 'TANKOBON SOFTCOVER',\n",
       "       'PERFECT PAPERBACK', 'BOARD BOOK', 'CARDS', 'SPIRAL-BOUND',\n",
       "       '(KANNADA),PAPERBACK', 'PRODUCT BUNDLE', 'LIBRARY BINDING',\n",
       "       '(GERMAN),PAPERBACK', 'LEATHER BOUND', '(FRENCH),PAPERBACK',\n",
       "       '(SPANISH),PAPERBACK', '(CHINESE),PAPERBACK'], dtype=object)"
      ]
     },
     "execution_count": 36,
     "metadata": {},
     "output_type": "execute_result"
    }
   ],
   "source": [
    "df[\"Edition_Type\"].unique()"
   ]
  },
  {
   "cell_type": "code",
   "execution_count": 37,
   "metadata": {},
   "outputs": [],
   "source": [
    "df[\"Edition_Type\"].replace({'(KANNADA),PAPERBACK':'PAPERBACK', '(GERMAN),PAPERBACK':'PAPERBACK', '(FRENCH),PAPERBACK':'PAPERBACK',\n",
    "                 '(SPANISH),PAPERBACK':\"PAPERBACK\", '(CHINESE),PAPERBACK':'PAPERBACK', 'PERFECT PAPERBACK':'PAPERBACK',\n",
    "                 'MASS MARKET PAPERBACK':\"PAPERBACK\"}, inplace = True)"
   ]
  },
  {
   "cell_type": "code",
   "execution_count": 38,
   "metadata": {},
   "outputs": [
    {
     "data": {
      "text/plain": [
       "array(['PAPERBACK', 'HARDCOVER', 'SHEET MUSIC', 'FLEXIBOUND',\n",
       "       'PLASTIC COMB', 'LOOSE LEAF', 'TANKOBON SOFTCOVER', 'BOARD BOOK',\n",
       "       'CARDS', 'SPIRAL-BOUND', 'PRODUCT BUNDLE', 'LIBRARY BINDING',\n",
       "       'LEATHER BOUND'], dtype=object)"
      ]
     },
     "execution_count": 38,
     "metadata": {},
     "output_type": "execute_result"
    }
   ],
   "source": [
    "df[\"Edition_Type\"].unique()"
   ]
  },
  {
   "cell_type": "code",
   "execution_count": null,
   "metadata": {},
   "outputs": [],
   "source": []
  },
  {
   "cell_type": "code",
   "execution_count": 39,
   "metadata": {},
   "outputs": [
    {
     "data": {
      "text/plain": [
       "457"
      ]
     },
     "execution_count": 39,
     "metadata": {},
     "output_type": "execute_result"
    }
   ],
   "source": [
    "df[\"Edition_Month\"].str.match(\"NA\").sum()"
   ]
  },
  {
   "cell_type": "code",
   "execution_count": 40,
   "metadata": {},
   "outputs": [],
   "source": [
    "df[\"Edition_Month\"]= df[\"Edition_Month\"].replace(\"NA\", df['Edition_Month'].mode()[0]) "
   ]
  },
  {
   "cell_type": "code",
   "execution_count": 41,
   "metadata": {},
   "outputs": [
    {
     "data": {
      "text/plain": [
       "0"
      ]
     },
     "execution_count": 41,
     "metadata": {},
     "output_type": "execute_result"
    }
   ],
   "source": [
    "df[\"Edition_Month\"].str.match(\"NA\").sum()"
   ]
  },
  {
   "cell_type": "code",
   "execution_count": null,
   "metadata": {},
   "outputs": [],
   "source": []
  },
  {
   "cell_type": "code",
   "execution_count": 42,
   "metadata": {},
   "outputs": [
    {
     "data": {
      "text/plain": [
       "array(['MAR', 'NOV', 'FEB', 'OCT', 'MAY', 'DEC', 'JAN', 'JUN', 'JUL',\n",
       "       'SEP', 'AUG', 'APR'], dtype=object)"
      ]
     },
     "execution_count": 42,
     "metadata": {},
     "output_type": "execute_result"
    }
   ],
   "source": [
    "df[\"Edition_Month\"].unique()"
   ]
  },
  {
   "cell_type": "code",
   "execution_count": 43,
   "metadata": {},
   "outputs": [],
   "source": [
    "df[\"Edition_Month\"].replace({'MAR':3, 'NOV':11, 'FEB':2, 'OCT':10, 'MAY':5, 'DEC':12, 'JAN':1, 'JUN':6, 'JUL':7,\n",
    "       'SEP':9, 'AUG':8, 'APR':4}, inplace = True)"
   ]
  },
  {
   "cell_type": "code",
   "execution_count": 44,
   "metadata": {},
   "outputs": [
    {
     "name": "stdout",
     "output_type": "stream",
     "text": [
      "<class 'pandas.core.frame.DataFrame'>\n",
      "Int64Index: 7797 entries, 0 to 1559\n",
      "Data columns (total 15 columns):\n",
      "Price            6237 non-null float64\n",
      "Edition_Type     7797 non-null object\n",
      "Edition_Month    7797 non-null int64\n",
      "Edition_Year     7797 non-null object\n",
      "Category1        7797 non-null object\n",
      "Category2        7797 non-null object\n",
      "Genre1           7797 non-null object\n",
      "Genre2           7797 non-null object\n",
      "Author1          7797 non-null object\n",
      "Author2          7797 non-null object\n",
      "Author3          7797 non-null object\n",
      "Author4          7797 non-null object\n",
      "Author5          7797 non-null object\n",
      "Author6          7797 non-null object\n",
      "Author7          7797 non-null object\n",
      "dtypes: float64(1), int64(1), object(13)\n",
      "memory usage: 974.6+ KB\n"
     ]
    }
   ],
   "source": [
    "df.info()"
   ]
  },
  {
   "cell_type": "code",
   "execution_count": null,
   "metadata": {},
   "outputs": [],
   "source": []
  },
  {
   "cell_type": "code",
   "execution_count": 45,
   "metadata": {},
   "outputs": [
    {
     "data": {
      "text/plain": [
       "array(['2016', '2012', '1982', '2017', '2006', '2009', '2018', '2015',\n",
       "       '2013', '1999', '2002', '2011', '1991', '2014', '1989', '2000',\n",
       "       '2005', '2019', '2008', '2004', '2010', '2007', '2001', '1969',\n",
       "       '1993', '1992', '2003', '1996', 0, '1997', '1995', '1987', '1986',\n",
       "       '1990', '1988', '1981', '1976', '1994', '1998', '1977', '1974',\n",
       "       '1983', '1971', '1985', '1978', '1964', '1984', '1980', '1979',\n",
       "       '1960', '1970', '1975', '1905', '1900', '1961', '1925', '1973',\n",
       "       '1942', '1972'], dtype=object)"
      ]
     },
     "execution_count": 45,
     "metadata": {},
     "output_type": "execute_result"
    }
   ],
   "source": [
    "df[\"Edition_Year\"].unique()"
   ]
  },
  {
   "cell_type": "code",
   "execution_count": 46,
   "metadata": {},
   "outputs": [],
   "source": [
    "df[\"Edition_Year\"]= df[\"Edition_Year\"].replace(0, df['Edition_Year'].mode()[0])"
   ]
  },
  {
   "cell_type": "code",
   "execution_count": 47,
   "metadata": {},
   "outputs": [
    {
     "data": {
      "text/plain": [
       "array(['2016', '2012', '1982', '2017', '2006', '2009', '2018', '2015',\n",
       "       '2013', '1999', '2002', '2011', '1991', '2014', '1989', '2000',\n",
       "       '2005', '2019', '2008', '2004', '2010', '2007', '2001', '1969',\n",
       "       '1993', '1992', '2003', '1996', '1997', '1995', '1987', '1986',\n",
       "       '1990', '1988', '1981', '1976', '1994', '1998', '1977', '1974',\n",
       "       '1983', '1971', '1985', '1978', '1964', '1984', '1980', '1979',\n",
       "       '1960', '1970', '1975', '1905', '1900', '1961', '1925', '1973',\n",
       "       '1942', '1972'], dtype=object)"
      ]
     },
     "execution_count": 47,
     "metadata": {},
     "output_type": "execute_result"
    }
   ],
   "source": [
    "df[\"Edition_Year\"].unique()"
   ]
  },
  {
   "cell_type": "code",
   "execution_count": 48,
   "metadata": {},
   "outputs": [],
   "source": [
    "# import labelencoder\n",
    "from sklearn.preprocessing import LabelEncoder\n",
    "from sklearn import preprocessing\n",
    "# instantiate labelencoder object\n",
    "le = LabelEncoder()"
   ]
  },
  {
   "cell_type": "code",
   "execution_count": 49,
   "metadata": {},
   "outputs": [],
   "source": [
    "df['Author1'] = le.fit_transform(df['Author1'])\n",
    "df['Author2'] = le.fit_transform(df['Author2'])\n",
    "df['Author3'] = le.fit_transform(df['Author3'])\n",
    "df['Author4'] = le.fit_transform(df['Author4'])\n",
    "df['Author5'] = le.fit_transform(df['Author5'])\n",
    "df['Author6'] = le.fit_transform(df['Author6'])\n",
    "df['Author7'] = le.fit_transform(df['Author7'])\n"
   ]
  },
  {
   "cell_type": "code",
   "execution_count": 50,
   "metadata": {},
   "outputs": [
    {
     "data": {
      "text/html": [
       "<div>\n",
       "<style scoped>\n",
       "    .dataframe tbody tr th:only-of-type {\n",
       "        vertical-align: middle;\n",
       "    }\n",
       "\n",
       "    .dataframe tbody tr th {\n",
       "        vertical-align: top;\n",
       "    }\n",
       "\n",
       "    .dataframe thead th {\n",
       "        text-align: right;\n",
       "    }\n",
       "</style>\n",
       "<table border=\"1\" class=\"dataframe\">\n",
       "  <thead>\n",
       "    <tr style=\"text-align: right;\">\n",
       "      <th></th>\n",
       "      <th>Price</th>\n",
       "      <th>Edition_Type</th>\n",
       "      <th>Edition_Month</th>\n",
       "      <th>Edition_Year</th>\n",
       "      <th>Category1</th>\n",
       "      <th>Category2</th>\n",
       "      <th>Genre1</th>\n",
       "      <th>Genre2</th>\n",
       "      <th>Author1</th>\n",
       "      <th>Author2</th>\n",
       "      <th>Author3</th>\n",
       "      <th>Author4</th>\n",
       "      <th>Author5</th>\n",
       "      <th>Author6</th>\n",
       "      <th>Author7</th>\n",
       "    </tr>\n",
       "  </thead>\n",
       "  <tbody>\n",
       "    <tr>\n",
       "      <th>0</th>\n",
       "      <td>220.00</td>\n",
       "      <td>PAPERBACK</td>\n",
       "      <td>3</td>\n",
       "      <td>2016</td>\n",
       "      <td>ACTION &amp; ADVENTURE</td>\n",
       "      <td>NONE</td>\n",
       "      <td>ACTION &amp; ADVENTURE (BOOKS)</td>\n",
       "      <td>NONE</td>\n",
       "      <td>731</td>\n",
       "      <td>196</td>\n",
       "      <td>55</td>\n",
       "      <td>17</td>\n",
       "      <td>6</td>\n",
       "      <td>1</td>\n",
       "      <td>1</td>\n",
       "    </tr>\n",
       "    <tr>\n",
       "      <th>1</th>\n",
       "      <td>202.93</td>\n",
       "      <td>PAPERBACK</td>\n",
       "      <td>11</td>\n",
       "      <td>2012</td>\n",
       "      <td>BIOGRAPHIES</td>\n",
       "      <td>DIARIES &amp; TRUE ACCOUNTS</td>\n",
       "      <td>CINEMA &amp; BROADCAST (BOOKS)</td>\n",
       "      <td>NONE</td>\n",
       "      <td>359</td>\n",
       "      <td>196</td>\n",
       "      <td>55</td>\n",
       "      <td>17</td>\n",
       "      <td>6</td>\n",
       "      <td>1</td>\n",
       "      <td>1</td>\n",
       "    </tr>\n",
       "    <tr>\n",
       "      <th>2</th>\n",
       "      <td>299.00</td>\n",
       "      <td>PAPERBACK</td>\n",
       "      <td>2</td>\n",
       "      <td>1982</td>\n",
       "      <td>HUMOUR</td>\n",
       "      <td>NONE</td>\n",
       "      <td>INTERNATIONAL RELATIONS</td>\n",
       "      <td>NONE</td>\n",
       "      <td>3978</td>\n",
       "      <td>196</td>\n",
       "      <td>55</td>\n",
       "      <td>17</td>\n",
       "      <td>6</td>\n",
       "      <td>1</td>\n",
       "      <td>1</td>\n",
       "    </tr>\n",
       "    <tr>\n",
       "      <th>3</th>\n",
       "      <td>180.00</td>\n",
       "      <td>PAPERBACK</td>\n",
       "      <td>10</td>\n",
       "      <td>2017</td>\n",
       "      <td>CRIME</td>\n",
       "      <td>THRILLER &amp; MYSTERY</td>\n",
       "      <td>CONTEMPORARY FICTION (BOOKS)</td>\n",
       "      <td>NONE</td>\n",
       "      <td>69</td>\n",
       "      <td>196</td>\n",
       "      <td>55</td>\n",
       "      <td>17</td>\n",
       "      <td>6</td>\n",
       "      <td>1</td>\n",
       "      <td>1</td>\n",
       "    </tr>\n",
       "    <tr>\n",
       "      <th>4</th>\n",
       "      <td>965.62</td>\n",
       "      <td>HARDCOVER</td>\n",
       "      <td>10</td>\n",
       "      <td>2006</td>\n",
       "      <td>ARTS</td>\n",
       "      <td>FILM &amp; PHOTOGRAPHY</td>\n",
       "      <td>PHOTOGRAPHY TEXTBOOKS</td>\n",
       "      <td>NONE</td>\n",
       "      <td>1113</td>\n",
       "      <td>196</td>\n",
       "      <td>55</td>\n",
       "      <td>17</td>\n",
       "      <td>6</td>\n",
       "      <td>1</td>\n",
       "      <td>1</td>\n",
       "    </tr>\n",
       "  </tbody>\n",
       "</table>\n",
       "</div>"
      ],
      "text/plain": [
       "    Price Edition_Type  Edition_Month Edition_Year           Category1  \\\n",
       "0  220.00    PAPERBACK              3         2016  ACTION & ADVENTURE   \n",
       "1  202.93    PAPERBACK             11         2012         BIOGRAPHIES   \n",
       "2  299.00    PAPERBACK              2         1982              HUMOUR   \n",
       "3  180.00    PAPERBACK             10         2017               CRIME   \n",
       "4  965.62    HARDCOVER             10         2006                ARTS   \n",
       "\n",
       "                 Category2                        Genre1 Genre2  Author1  \\\n",
       "0                     NONE    ACTION & ADVENTURE (BOOKS)   NONE      731   \n",
       "1  DIARIES & TRUE ACCOUNTS    CINEMA & BROADCAST (BOOKS)   NONE      359   \n",
       "2                     NONE       INTERNATIONAL RELATIONS   NONE     3978   \n",
       "3       THRILLER & MYSTERY  CONTEMPORARY FICTION (BOOKS)   NONE       69   \n",
       "4       FILM & PHOTOGRAPHY         PHOTOGRAPHY TEXTBOOKS   NONE     1113   \n",
       "\n",
       "   Author2  Author3  Author4  Author5  Author6  Author7  \n",
       "0      196       55       17        6        1        1  \n",
       "1      196       55       17        6        1        1  \n",
       "2      196       55       17        6        1        1  \n",
       "3      196       55       17        6        1        1  \n",
       "4      196       55       17        6        1        1  "
      ]
     },
     "execution_count": 50,
     "metadata": {},
     "output_type": "execute_result"
    }
   ],
   "source": [
    "df.head()"
   ]
  },
  {
   "cell_type": "code",
   "execution_count": null,
   "metadata": {},
   "outputs": [],
   "source": []
  },
  {
   "cell_type": "code",
   "execution_count": null,
   "metadata": {},
   "outputs": [],
   "source": []
  },
  {
   "cell_type": "code",
   "execution_count": 51,
   "metadata": {},
   "outputs": [],
   "source": [
    "cat_column = df.select_dtypes(exclude=np.number).columns"
   ]
  },
  {
   "cell_type": "code",
   "execution_count": 52,
   "metadata": {},
   "outputs": [
    {
     "data": {
      "text/plain": [
       "Index(['Edition_Type', 'Edition_Year', 'Category1', 'Category2', 'Genre1',\n",
       "       'Genre2'],\n",
       "      dtype='object')"
      ]
     },
     "execution_count": 52,
     "metadata": {},
     "output_type": "execute_result"
    }
   ],
   "source": [
    "cat_column"
   ]
  },
  {
   "cell_type": "code",
   "execution_count": 53,
   "metadata": {},
   "outputs": [],
   "source": [
    "num_column = df.select_dtypes(include=np.number).columns"
   ]
  },
  {
   "cell_type": "code",
   "execution_count": 54,
   "metadata": {},
   "outputs": [
    {
     "data": {
      "text/plain": [
       "Index(['Price', 'Edition_Month', 'Author1', 'Author2', 'Author3', 'Author4',\n",
       "       'Author5', 'Author6', 'Author7'],\n",
       "      dtype='object')"
      ]
     },
     "execution_count": 54,
     "metadata": {},
     "output_type": "execute_result"
    }
   ],
   "source": [
    "num_column"
   ]
  },
  {
   "cell_type": "code",
   "execution_count": 55,
   "metadata": {},
   "outputs": [],
   "source": [
    "df_cat_dummy = pd.get_dummies(df[cat_column])"
   ]
  },
  {
   "cell_type": "code",
   "execution_count": 56,
   "metadata": {},
   "outputs": [],
   "source": [
    "df_preprocessed = pd.concat([df[num_column],df_cat_dummy],axis = \"columns\")"
   ]
  },
  {
   "cell_type": "code",
   "execution_count": 57,
   "metadata": {},
   "outputs": [
    {
     "data": {
      "text/html": [
       "<div>\n",
       "<style scoped>\n",
       "    .dataframe tbody tr th:only-of-type {\n",
       "        vertical-align: middle;\n",
       "    }\n",
       "\n",
       "    .dataframe tbody tr th {\n",
       "        vertical-align: top;\n",
       "    }\n",
       "\n",
       "    .dataframe thead th {\n",
       "        text-align: right;\n",
       "    }\n",
       "</style>\n",
       "<table border=\"1\" class=\"dataframe\">\n",
       "  <thead>\n",
       "    <tr style=\"text-align: right;\">\n",
       "      <th></th>\n",
       "      <th>Price</th>\n",
       "      <th>Edition_Month</th>\n",
       "      <th>Author1</th>\n",
       "      <th>Author2</th>\n",
       "      <th>Author3</th>\n",
       "      <th>Author4</th>\n",
       "      <th>Author5</th>\n",
       "      <th>Author6</th>\n",
       "      <th>Author7</th>\n",
       "      <th>Edition_Type_BOARD BOOK</th>\n",
       "      <th>...</th>\n",
       "      <th>Genre2_NONE</th>\n",
       "      <th>Genre2_PERSECUTION &amp; FUNDAMENTALISM</th>\n",
       "      <th>Genre2_PERSONAL &amp; SOCIAL ISSUES (BOOKS)</th>\n",
       "      <th>Genre2_SCIENCE FICTION &amp; HORROR (BOOKS)</th>\n",
       "      <th>Genre2_SNORKELLING &amp; DIVING (BOOKS)</th>\n",
       "      <th>Genre2_STRATEGY &amp; MANAGEMENT (BOOKS)</th>\n",
       "      <th>Genre2_TECHNOLOGY &amp; MEDICINE (BOOKS)</th>\n",
       "      <th>Genre2_THEORY &amp; CRITICISM (BOOKS)</th>\n",
       "      <th>Genre2_THRILLER &amp; MYSTERY (BOOKS)</th>\n",
       "      <th>Genre2_TOYS &amp; ACTIVITIES (BOOKS)</th>\n",
       "    </tr>\n",
       "  </thead>\n",
       "  <tbody>\n",
       "    <tr>\n",
       "      <th>0</th>\n",
       "      <td>220.00</td>\n",
       "      <td>3</td>\n",
       "      <td>731</td>\n",
       "      <td>196</td>\n",
       "      <td>55</td>\n",
       "      <td>17</td>\n",
       "      <td>6</td>\n",
       "      <td>1</td>\n",
       "      <td>1</td>\n",
       "      <td>0</td>\n",
       "      <td>...</td>\n",
       "      <td>1</td>\n",
       "      <td>0</td>\n",
       "      <td>0</td>\n",
       "      <td>0</td>\n",
       "      <td>0</td>\n",
       "      <td>0</td>\n",
       "      <td>0</td>\n",
       "      <td>0</td>\n",
       "      <td>0</td>\n",
       "      <td>0</td>\n",
       "    </tr>\n",
       "    <tr>\n",
       "      <th>1</th>\n",
       "      <td>202.93</td>\n",
       "      <td>11</td>\n",
       "      <td>359</td>\n",
       "      <td>196</td>\n",
       "      <td>55</td>\n",
       "      <td>17</td>\n",
       "      <td>6</td>\n",
       "      <td>1</td>\n",
       "      <td>1</td>\n",
       "      <td>0</td>\n",
       "      <td>...</td>\n",
       "      <td>1</td>\n",
       "      <td>0</td>\n",
       "      <td>0</td>\n",
       "      <td>0</td>\n",
       "      <td>0</td>\n",
       "      <td>0</td>\n",
       "      <td>0</td>\n",
       "      <td>0</td>\n",
       "      <td>0</td>\n",
       "      <td>0</td>\n",
       "    </tr>\n",
       "    <tr>\n",
       "      <th>2</th>\n",
       "      <td>299.00</td>\n",
       "      <td>2</td>\n",
       "      <td>3978</td>\n",
       "      <td>196</td>\n",
       "      <td>55</td>\n",
       "      <td>17</td>\n",
       "      <td>6</td>\n",
       "      <td>1</td>\n",
       "      <td>1</td>\n",
       "      <td>0</td>\n",
       "      <td>...</td>\n",
       "      <td>1</td>\n",
       "      <td>0</td>\n",
       "      <td>0</td>\n",
       "      <td>0</td>\n",
       "      <td>0</td>\n",
       "      <td>0</td>\n",
       "      <td>0</td>\n",
       "      <td>0</td>\n",
       "      <td>0</td>\n",
       "      <td>0</td>\n",
       "    </tr>\n",
       "    <tr>\n",
       "      <th>3</th>\n",
       "      <td>180.00</td>\n",
       "      <td>10</td>\n",
       "      <td>69</td>\n",
       "      <td>196</td>\n",
       "      <td>55</td>\n",
       "      <td>17</td>\n",
       "      <td>6</td>\n",
       "      <td>1</td>\n",
       "      <td>1</td>\n",
       "      <td>0</td>\n",
       "      <td>...</td>\n",
       "      <td>1</td>\n",
       "      <td>0</td>\n",
       "      <td>0</td>\n",
       "      <td>0</td>\n",
       "      <td>0</td>\n",
       "      <td>0</td>\n",
       "      <td>0</td>\n",
       "      <td>0</td>\n",
       "      <td>0</td>\n",
       "      <td>0</td>\n",
       "    </tr>\n",
       "    <tr>\n",
       "      <th>4</th>\n",
       "      <td>965.62</td>\n",
       "      <td>10</td>\n",
       "      <td>1113</td>\n",
       "      <td>196</td>\n",
       "      <td>55</td>\n",
       "      <td>17</td>\n",
       "      <td>6</td>\n",
       "      <td>1</td>\n",
       "      <td>1</td>\n",
       "      <td>0</td>\n",
       "      <td>...</td>\n",
       "      <td>1</td>\n",
       "      <td>0</td>\n",
       "      <td>0</td>\n",
       "      <td>0</td>\n",
       "      <td>0</td>\n",
       "      <td>0</td>\n",
       "      <td>0</td>\n",
       "      <td>0</td>\n",
       "      <td>0</td>\n",
       "      <td>0</td>\n",
       "    </tr>\n",
       "  </tbody>\n",
       "</table>\n",
       "<p>5 rows × 487 columns</p>\n",
       "</div>"
      ],
      "text/plain": [
       "    Price  Edition_Month  Author1  Author2  Author3  Author4  Author5  \\\n",
       "0  220.00              3      731      196       55       17        6   \n",
       "1  202.93             11      359      196       55       17        6   \n",
       "2  299.00              2     3978      196       55       17        6   \n",
       "3  180.00             10       69      196       55       17        6   \n",
       "4  965.62             10     1113      196       55       17        6   \n",
       "\n",
       "   Author6  Author7  Edition_Type_BOARD BOOK  ...  Genre2_NONE  \\\n",
       "0        1        1                        0  ...            1   \n",
       "1        1        1                        0  ...            1   \n",
       "2        1        1                        0  ...            1   \n",
       "3        1        1                        0  ...            1   \n",
       "4        1        1                        0  ...            1   \n",
       "\n",
       "   Genre2_PERSECUTION & FUNDAMENTALISM  \\\n",
       "0                                    0   \n",
       "1                                    0   \n",
       "2                                    0   \n",
       "3                                    0   \n",
       "4                                    0   \n",
       "\n",
       "   Genre2_PERSONAL & SOCIAL ISSUES (BOOKS)  \\\n",
       "0                                        0   \n",
       "1                                        0   \n",
       "2                                        0   \n",
       "3                                        0   \n",
       "4                                        0   \n",
       "\n",
       "   Genre2_SCIENCE FICTION & HORROR (BOOKS)  \\\n",
       "0                                        0   \n",
       "1                                        0   \n",
       "2                                        0   \n",
       "3                                        0   \n",
       "4                                        0   \n",
       "\n",
       "   Genre2_SNORKELLING & DIVING (BOOKS)  Genre2_STRATEGY & MANAGEMENT (BOOKS)  \\\n",
       "0                                    0                                     0   \n",
       "1                                    0                                     0   \n",
       "2                                    0                                     0   \n",
       "3                                    0                                     0   \n",
       "4                                    0                                     0   \n",
       "\n",
       "   Genre2_TECHNOLOGY & MEDICINE (BOOKS)  Genre2_THEORY & CRITICISM (BOOKS)  \\\n",
       "0                                     0                                  0   \n",
       "1                                     0                                  0   \n",
       "2                                     0                                  0   \n",
       "3                                     0                                  0   \n",
       "4                                     0                                  0   \n",
       "\n",
       "   Genre2_THRILLER & MYSTERY (BOOKS)  Genre2_TOYS & ACTIVITIES (BOOKS)  \n",
       "0                                  0                                 0  \n",
       "1                                  0                                 0  \n",
       "2                                  0                                 0  \n",
       "3                                  0                                 0  \n",
       "4                                  0                                 0  \n",
       "\n",
       "[5 rows x 487 columns]"
      ]
     },
     "execution_count": 57,
     "metadata": {},
     "output_type": "execute_result"
    }
   ],
   "source": [
    "df_preprocessed.head()"
   ]
  },
  {
   "cell_type": "code",
   "execution_count": 58,
   "metadata": {},
   "outputs": [
    {
     "data": {
      "text/plain": [
       "Index(['Price', 'Edition_Type', 'Edition_Month', 'Edition_Year', 'Category1',\n",
       "       'Category2', 'Genre1', 'Genre2', 'Author1', 'Author2', 'Author3',\n",
       "       'Author4', 'Author5', 'Author6', 'Author7'],\n",
       "      dtype='object')"
      ]
     },
     "execution_count": 58,
     "metadata": {},
     "output_type": "execute_result"
    }
   ],
   "source": [
    "df.columns"
   ]
  },
  {
   "cell_type": "code",
   "execution_count": null,
   "metadata": {},
   "outputs": [],
   "source": []
  },
  {
   "cell_type": "code",
   "execution_count": null,
   "metadata": {},
   "outputs": [],
   "source": []
  },
  {
   "cell_type": "code",
   "execution_count": 59,
   "metadata": {},
   "outputs": [],
   "source": [
    "test_df = df_preprocessed[df_preprocessed[\"Price\"].isna()]"
   ]
  },
  {
   "cell_type": "code",
   "execution_count": 60,
   "metadata": {},
   "outputs": [],
   "source": [
    "train_df = df_preprocessed[df_preprocessed[\"Price\"].notna()]"
   ]
  },
  {
   "cell_type": "code",
   "execution_count": 61,
   "metadata": {},
   "outputs": [
    {
     "data": {
      "text/plain": [
       "(1560, 487)"
      ]
     },
     "execution_count": 61,
     "metadata": {},
     "output_type": "execute_result"
    }
   ],
   "source": [
    "test_df.shape"
   ]
  },
  {
   "cell_type": "code",
   "execution_count": 62,
   "metadata": {},
   "outputs": [
    {
     "data": {
      "text/plain": [
       "(6237, 487)"
      ]
     },
     "execution_count": 62,
     "metadata": {},
     "output_type": "execute_result"
    }
   ],
   "source": [
    "train_df.shape"
   ]
  },
  {
   "cell_type": "markdown",
   "metadata": {},
   "source": [
    "## Machine Learning"
   ]
  },
  {
   "cell_type": "code",
   "execution_count": 63,
   "metadata": {},
   "outputs": [],
   "source": [
    "y = train_df[\"Price\"]"
   ]
  },
  {
   "cell_type": "code",
   "execution_count": 64,
   "metadata": {},
   "outputs": [],
   "source": [
    "X = train_df.drop(columns=\"Price\")"
   ]
  },
  {
   "cell_type": "code",
   "execution_count": 65,
   "metadata": {},
   "outputs": [],
   "source": [
    "test_X = test_df.drop(columns=\"Price\")"
   ]
  },
  {
   "cell_type": "code",
   "execution_count": 66,
   "metadata": {},
   "outputs": [
    {
     "data": {
      "text/plain": [
       "LinearRegression(copy_X=True, fit_intercept=True, n_jobs=None, normalize=False)"
      ]
     },
     "execution_count": 66,
     "metadata": {},
     "output_type": "execute_result"
    }
   ],
   "source": [
    "linear = LinearRegression()\n",
    "linear.fit(X,y)"
   ]
  },
  {
   "cell_type": "code",
   "execution_count": 107,
   "metadata": {},
   "outputs": [
    {
     "data": {
      "text/plain": [
       "array([-2.61129439e-01, -2.27046806e-03, -4.11984116e-01, -3.95759189e+00,\n",
       "       -2.03571957e+01, -1.46555556e+02, -3.01619707e-09, -4.30161151e-09,\n",
       "       -1.34993967e+03, -1.17314517e+03, -1.19216070e+03, -8.84689315e+02,\n",
       "        2.98432884e+02, -1.34333373e+03, -1.57332782e+03, -1.37149581e+03,\n",
       "       -4.32915729e+02,  1.23678315e+04, -1.11020806e+03, -1.12739519e+03,\n",
       "       -1.10765318e+03,  3.90117528e+03,  3.67521832e+02,  1.24878988e+02,\n",
       "       -4.91201035e-09,  2.01954767e+02, -2.08087892e+02, -8.59064379e+00,\n",
       "       -2.25739393e+02, -1.80666839e+02, -3.04987608e+02,  6.66602773e-10,\n",
       "       -3.09694478e+02, -1.53179031e+02, -1.32418116e+02,  9.37182777e+01,\n",
       "        1.85852067e+03, -1.03283044e+02, -4.39564409e+02, -1.62905728e+02,\n",
       "       -1.19932129e+02, -1.76581871e+02,  9.95093651e+01, -1.51016505e+02,\n",
       "       -1.53008823e+02, -1.46186090e+02, -1.46383106e+02, -1.92750370e+02,\n",
       "       -1.76987676e+02, -2.06738347e+02,  2.95537263e+02, -1.86222460e+02,\n",
       "       -1.30344601e+02, -1.71494405e+02, -3.69052916e+01, -1.21637051e+02,\n",
       "        1.55534803e+01, -7.21433765e+01,  6.06907311e+01, -7.70531453e+01,\n",
       "        5.31895820e+00, -1.24047133e+02, -2.29596548e+02, -1.91161767e+02,\n",
       "       -2.07205557e+02, -1.66264161e+02, -1.55894699e+02, -1.11198579e+02,\n",
       "       -1.29080639e+02, -4.42111255e+01, -9.65734342e+01, -8.70185896e+01,\n",
       "       -6.08201098e+01, -1.05670728e+02, -8.58159879e+01, -1.39250550e+02,\n",
       "       -1.81892671e+02, -2.03873567e+02, -2.10301341e+02, -6.13714206e+01,\n",
       "        4.79948046e+01, -9.27426434e+01,  9.11127403e+01,  5.11031160e+01,\n",
       "       -2.30735266e+01,  4.08651442e+01, -8.94637667e+00, -1.04254900e+02,\n",
       "       -4.02792039e+01,  9.95922659e+01, -9.27426435e+01,  4.79948046e+01,\n",
       "        5.11031160e+01, -8.94637667e+00,  2.56646260e+01, -2.30735265e+01,\n",
       "       -2.16040883e+02, -2.74037029e+02, -1.71318668e+02, -2.13457835e+02,\n",
       "       -2.11917401e+02, -4.86661818e+02,  6.90836096e+02,  4.30389643e+02,\n",
       "       -1.45803662e+02, -1.57875846e+02, -6.99588569e+02, -8.86739934e+01,\n",
       "       -2.96212116e+02,  1.40450510e+02,  2.53218179e+02,  1.74110432e+02,\n",
       "       -1.97742091e+02,  1.07521808e+03, -1.86192474e+02,  1.72608055e+02,\n",
       "        1.27282388e+03,  4.12421009e+02, -1.69920017e+02,  1.33167640e+02,\n",
       "        1.69579567e+02, -2.38373426e+02,  9.99997209e+02, -8.25461812e+01,\n",
       "       -2.03273041e+02, -3.20228004e+02,  1.01810904e+02,  1.24579447e+02,\n",
       "        3.33083885e+03,  2.41094066e+02, -2.47428034e-09, -1.30580879e+01,\n",
       "       -1.81057596e+02, -5.17944182e+02, -6.07450437e+01, -3.05358731e+02,\n",
       "        6.92921276e-10, -1.31414849e+02,  4.65743466e+02,  4.08949629e+01,\n",
       "       -4.12637408e+02, -1.16927940e+02, -2.54036400e+02, -1.44076769e+02,\n",
       "        1.17142918e-09, -1.74978722e+02, -2.31196671e+01, -3.45236090e+02,\n",
       "       -1.32771492e+02, -2.45687644e+02, -5.77226052e+02, -3.24799132e+02,\n",
       "       -3.33234991e+02, -3.37002899e+02,  1.97921119e+01, -2.77518905e+02,\n",
       "        8.95977610e+01, -2.14053390e+02, -7.83406176e+01, -2.57086726e+02,\n",
       "       -3.60932863e+02, -2.61653934e+02, -3.76895656e+01, -1.48829357e+02,\n",
       "        2.52159853e+02, -9.45225848e+01, -4.88841881e+02, -3.59314351e+02,\n",
       "       -4.17958107e+02, -4.24983642e+02, -2.55232091e+02, -2.83832092e+02,\n",
       "       -4.15496970e-09, -7.03563119e+01, -1.46998771e+02, -4.36470400e+02,\n",
       "       -1.60029375e+02, -5.07442609e+01, -2.92788868e+02, -3.07174543e+02,\n",
       "        5.63548591e+02, -3.53601300e+02, -3.33165269e+02, -2.29273985e+02,\n",
       "       -1.45474755e+02,  4.08315128e+02,  3.80746781e+02,  2.40368895e+02,\n",
       "        5.02107185e+01,  5.55773129e+01,  1.08373779e+01, -2.80784435e+02,\n",
       "       -1.72399884e+02, -4.42199166e-09, -3.50955264e+02, -4.16267208e+01,\n",
       "       -4.75508264e+01, -3.62146579e-09,  1.01796423e+03,  3.10532423e+02,\n",
       "       -3.37146488e+02, -1.68554901e+02,  7.76168089e+01, -1.56115525e+01,\n",
       "       -1.64813132e+01, -1.85762612e+02,  1.29909955e+02,  1.34171884e+02,\n",
       "       -4.60845004e+02, -6.24313545e+01, -2.77954206e+02, -5.99144244e+01,\n",
       "       -9.11374872e+01, -2.39169753e+02, -2.00349517e+02, -4.93299106e+02,\n",
       "       -6.50218340e+01, -3.12130585e+02, -3.37522445e+02, -8.41674884e+02,\n",
       "       -3.47631972e+02, -1.01561158e+02, -4.26852940e+02, -5.50108258e+02,\n",
       "       -3.35393194e+02,  4.07549935e+02, -1.12361908e+02,  2.43515629e+02,\n",
       "        1.97495001e+02, -2.64850053e+02, -2.62636631e+02,  5.70892816e+02,\n",
       "        1.00606181e+01, -4.18968961e+02, -6.88576887e+01,  3.28485429e+02,\n",
       "        5.59163179e+00, -2.41162411e+02, -6.21379378e+02, -7.45241226e+00,\n",
       "       -1.67402289e+02,  2.05948324e+03,  9.51104084e-10,  2.87647469e+02,\n",
       "        1.76539093e+01, -1.04250830e-10,  2.42975116e+03, -1.59366828e+01,\n",
       "       -4.00648192e+02, -4.13884640e+01, -3.27073742e+02, -2.85073089e+02,\n",
       "       -2.31064735e+02, -2.69471661e+02, -4.34197888e+01,  1.52855877e+03,\n",
       "        6.09183641e+02, -1.23498959e+02,  1.35821865e+02, -8.13674365e+01,\n",
       "       -3.11359243e+02,  7.03094607e+02, -7.98609678e+01, -3.92740424e+02,\n",
       "        1.07572651e+01, -5.71624525e-10,  1.06361725e+02, -2.52170243e+02,\n",
       "       -2.05102761e+02, -3.20270863e+02, -1.24666854e+02,  2.14356958e+01,\n",
       "       -5.77926613e+01,  2.99304065e+01, -8.66732845e+01, -9.93318166e+01,\n",
       "       -2.48160919e+02, -2.34580113e+02,  2.56073650e+02, -1.24278469e+02,\n",
       "       -3.07604699e+02, -8.53028803e+01, -1.08773997e+02, -4.54646931e+02,\n",
       "       -2.53767609e+02,  4.21724384e+02,  2.68321144e+01, -6.36352116e+02,\n",
       "       -3.57151074e+02,  4.51622984e+02, -3.41462632e+02, -1.08709214e+02,\n",
       "        8.14724058e+02, -1.98831349e+02,  1.95953987e+03, -2.09223441e+02,\n",
       "        1.33681603e+02, -1.81299729e+02, -2.58750347e+02, -2.99682928e+02,\n",
       "       -2.80754104e+02,  7.49356452e+01,  3.88422443e+01, -1.87125271e+01,\n",
       "       -8.82702683e+02,  1.02980953e+03, -2.06499006e+02,  5.49907143e+01,\n",
       "       -1.34678573e+02,  2.89754659e+03, -2.01625417e+02, -3.16816944e+02,\n",
       "       -2.03432924e+02, -5.68564386e+02, -5.95154935e+02, -1.60653579e+02,\n",
       "       -3.83820923e+02, -6.88738612e+02, -2.68774865e+02, -9.52081059e+01,\n",
       "       -4.57412468e+02, -1.31377979e+02, -2.08654209e+02, -2.80724778e+01,\n",
       "        2.00635539e+02,  3.85260391e+01, -2.52605558e+02, -2.71929717e+00,\n",
       "       -9.31846515e+01, -2.88138966e+01, -1.81844070e+02, -1.73933352e+02,\n",
       "       -3.16322698e+02, -9.58585268e+01,  5.76312686e-09,  1.81745607e+03,\n",
       "        9.11469163e+01, -2.33282473e+02, -1.11661927e+02, -2.67479677e+02,\n",
       "       -3.02167361e+02, -1.14262698e+02,  1.90291537e+02,  6.26419633e+02,\n",
       "       -3.50589400e+01, -6.79234378e+01, -4.65212007e+02,  8.31227203e+02,\n",
       "       -3.60696955e+02,  4.37757376e+01,  6.42465420e+02,  7.75607871e+02,\n",
       "        1.39774059e+02,  3.97813406e+02,  1.45410953e+03, -4.46895448e+02,\n",
       "       -1.79575193e+02, -2.66627972e+02,  1.11822349e+02, -5.21868060e-09,\n",
       "        5.29775396e+02, -1.03942038e+02, -2.35262303e+02, -2.00303295e+01,\n",
       "       -5.84430927e+01, -2.49577032e+02, -3.03764979e+02, -3.89640052e+02,\n",
       "       -2.10684360e+02, -1.75184542e+02,  1.11383273e+02,  4.53636780e+01,\n",
       "       -2.09223609e+02,  2.80766910e+02, -1.75975139e+02,  2.83408775e+01,\n",
       "       -2.57166705e+02, -2.15308606e+02, -6.54021040e+01, -2.11381356e+02,\n",
       "        9.73202732e+02,  2.83320035e+02, -3.78106359e+02,  2.13389894e+02,\n",
       "       -3.36755466e+02, -4.21047206e+02, -9.83693989e+01, -2.02788001e+02,\n",
       "       -6.88942237e-11, -2.79967502e+02, -2.40619749e+02, -9.02336967e+01,\n",
       "       -3.50523742e+02,  5.64280912e+02, -1.66489951e+02,  4.63634806e+03,\n",
       "        3.13942062e+02, -4.15329015e+01, -3.38843620e-09, -2.20992401e+02,\n",
       "       -2.25739393e+02,  6.88339101e+01, -1.34165005e+02, -3.36468812e+02,\n",
       "       -1.97879971e+02, -2.13299912e+02, -7.15554993e-01,  3.11627696e+00,\n",
       "        5.04790585e+02,  3.52390127e+02,  3.60009345e+02, -5.93115693e+02,\n",
       "        3.00298942e+02,  1.66989622e-09, -4.19683399e+02, -3.69300574e+02,\n",
       "       -1.39919966e+02, -3.01081532e+02, -3.44574727e+02, -4.00833798e+01,\n",
       "        1.26235832e+02,  4.48660216e+01,  2.92938639e+02, -2.93123743e+02,\n",
       "        3.38010628e+02,  5.33870953e+01,  5.96172207e+02, -4.43017917e+02,\n",
       "       -2.07080575e-10, -6.55130315e+02, -3.79561300e+02, -2.99522676e+01,\n",
       "        6.58900490e-10, -1.45273733e+02, -5.30522188e+00, -1.35623877e+02,\n",
       "       -8.40577123e+01,  9.59595300e+01, -1.78256333e+02, -1.46656021e-11,\n",
       "        3.24309508e+03,  3.20774966e+02, -2.20558091e+02, -2.03463770e+01,\n",
       "       -3.82616900e+02,  2.72641257e+01, -1.03111530e+02, -6.38636539e+02,\n",
       "       -2.80531456e+02, -9.73527255e+01,  8.78165473e+02,  0.00000000e+00,\n",
       "       -9.33556499e+01, -2.08087892e+02,  1.91924418e+02,  6.09584678e+00,\n",
       "        1.37348601e+03, -4.55294901e+02, -3.18314758e+01, -9.45225848e+01,\n",
       "        1.11383273e+02,  9.11469163e+01,  1.07572651e+01, -1.30580879e+01,\n",
       "       -7.45241226e+00,  1.33167640e+02, -9.73527255e+01,  1.97921119e+01,\n",
       "       -1.72399884e+02,  5.55773129e+01, -9.33556499e+01, -1.14262698e+02,\n",
       "        1.97495001e+02, -1.64813132e+01, -2.01625417e+02, -4.17958107e+02,\n",
       "        1.71592043e+02,  7.49356452e+01,  8.95977610e+01,  3.28485429e+02,\n",
       "        5.33870953e+01, -1.16927940e+02, -4.15329015e+01,  1.69579567e+02,\n",
       "       -4.16267208e+01, -7.83406176e+01])"
      ]
     },
     "execution_count": 107,
     "metadata": {},
     "output_type": "execute_result"
    }
   ],
   "source": [
    "linear.coef_"
   ]
  },
  {
   "cell_type": "code",
   "execution_count": 108,
   "metadata": {},
   "outputs": [
    {
     "data": {
      "text/plain": [
       "3469.870721531408"
      ]
     },
     "execution_count": 108,
     "metadata": {},
     "output_type": "execute_result"
    }
   ],
   "source": [
    "linear.intercept_"
   ]
  },
  {
   "cell_type": "code",
   "execution_count": 109,
   "metadata": {},
   "outputs": [
    {
     "data": {
      "text/plain": [
       "3019791231.7154083"
      ]
     },
     "execution_count": 109,
     "metadata": {},
     "output_type": "execute_result"
    }
   ],
   "source": [
    "np.sqrt(np.mean(np.abs(cross_val_score(linear,X,y,cv=20,scoring=\"neg_mean_squared_error\"))))"
   ]
  },
  {
   "cell_type": "code",
   "execution_count": 110,
   "metadata": {},
   "outputs": [],
   "source": [
    "test_pred = linear.predict(test_X)"
   ]
  },
  {
   "cell_type": "code",
   "execution_count": 111,
   "metadata": {},
   "outputs": [],
   "source": [
    "linear_result = pd.DataFrame(test_pred,columns= [\"Price\"])"
   ]
  },
  {
   "cell_type": "code",
   "execution_count": 112,
   "metadata": {},
   "outputs": [],
   "source": [
    "linear_result.to_excel(\"linear.xlsx\",index = False)"
   ]
  },
  {
   "cell_type": "code",
   "execution_count": 67,
   "metadata": {},
   "outputs": [],
   "source": [
    "def model_fit(model, X, y, test, fileName ):\n",
    "    model.fit(X,y)\n",
    "    print(\"CrossValidation score = \",np.sqrt(np.mean(np.abs(cross_val_score(model,X,y,cv=20,scoring=\"neg_mean_squared_error\")))))\n",
    "    y_pred = model.predict(X)\n",
    "    print(\"Train RMSE  :\",np.sqrt(mean_squared_error(y,y_pred)))\n",
    "    y_test_pred = model.predict(test)\n",
    "    \n",
    "    test_pred_df = pd.DataFrame(y_test_pred,columns= [\"Price\"])\n",
    "    \n",
    "    result = test_pred_df\n",
    "\n",
    "    result.to_excel(fileName,index = False)"
   ]
  },
  {
   "cell_type": "code",
   "execution_count": 114,
   "metadata": {},
   "outputs": [
    {
     "name": "stdout",
     "output_type": "stream",
     "text": [
      "CrossValidation score =  3019791231.7154083\n",
      "Train RMSE  : 557.8688235167846\n"
     ]
    }
   ],
   "source": [
    "model_fit(linear, X, y, test_X, \"model_solution.xlsx\" )"
   ]
  },
  {
   "cell_type": "code",
   "execution_count": null,
   "metadata": {},
   "outputs": [],
   "source": [
    "pd.DataFrame(linear.coef_).plot(kind = \"bar\")"
   ]
  },
  {
   "cell_type": "code",
   "execution_count": 115,
   "metadata": {},
   "outputs": [],
   "source": [
    "from sklearn.preprocessing import PolynomialFeatures\n",
    "poly_reg = PolynomialFeatures(degree=2)\n",
    "X_poly = poly_reg.fit_transform(X)\n",
    "pol_reg = LinearRegression()\n",
    "test_X_poly = poly_reg.fit_transform(test_X)"
   ]
  },
  {
   "cell_type": "code",
   "execution_count": null,
   "metadata": {},
   "outputs": [],
   "source": [
    "model_fit(pol_reg, X_poly, y, test_X_poly, \"model_poly_solution.xlsx\" )"
   ]
  },
  {
   "cell_type": "code",
   "execution_count": 117,
   "metadata": {},
   "outputs": [],
   "source": [
    "las = Lasso(alpha=10,normalize = True)"
   ]
  },
  {
   "cell_type": "code",
   "execution_count": 118,
   "metadata": {},
   "outputs": [
    {
     "name": "stdout",
     "output_type": "stream",
     "text": [
      "CrossValidation score =  690.1779338776915\n",
      "Train RMSE  : 690.0553304334492\n"
     ]
    }
   ],
   "source": [
    "model_fit(las, X, y, test_X, \"model_lasso_solution.xlsx\" )"
   ]
  },
  {
   "cell_type": "code",
   "execution_count": 119,
   "metadata": {},
   "outputs": [
    {
     "data": {
      "text/plain": [
       "<matplotlib.axes._subplots.AxesSubplot at 0x289b19f6828>"
      ]
     },
     "execution_count": 119,
     "metadata": {},
     "output_type": "execute_result"
    },
    {
     "data": {
      "image/png": "[encoded data removed]",
      "text/plain": [
       "<Figure size 432x288 with 1 Axes>"
      ]
     },
     "metadata": {},
     "output_type": "display_data"
    }
   ],
   "source": [
    "pd.DataFrame(las.coef_).plot(kind = \"bar\")"
   ]
  },
  {
   "cell_type": "code",
   "execution_count": 120,
   "metadata": {},
   "outputs": [],
   "source": [
    "rid = Ridge(alpha=10,normalize = True)"
   ]
  },
  {
   "cell_type": "code",
   "execution_count": 121,
   "metadata": {},
   "outputs": [
    {
     "name": "stdout",
     "output_type": "stream",
     "text": [
      "CrossValidation score =  667.9905195277255\n",
      "Train RMSE  : 657.7323963721925\n"
     ]
    }
   ],
   "source": [
    "model_fit(rid, X, y, test_X, \"model_ridge_solution.xlsx\" )"
   ]
  },
  {
   "cell_type": "code",
   "execution_count": 122,
   "metadata": {},
   "outputs": [
    {
     "data": {
      "text/plain": [
       "<matplotlib.axes._subplots.AxesSubplot at 0x289aeea37f0>"
      ]
     },
     "execution_count": 122,
     "metadata": {},
     "output_type": "execute_result"
    },
    {
     "data": {
      "image/png": "[encoded data removed]",
      "text/plain": [
       "<Figure size 432x288 with 1 Axes>"
      ]
     },
     "metadata": {},
     "output_type": "display_data"
    }
   ],
   "source": [
    "pd.DataFrame(rid.coef_).plot(kind = \"bar\")"
   ]
  },
  {
   "cell_type": "code",
   "execution_count": 123,
   "metadata": {},
   "outputs": [
    {
     "name": "stderr",
     "output_type": "stream",
     "text": [
      "C:\\Users\\mukeshkumar.selvan\\AppData\\Roaming\\Python\\Python37\\site-packages\\sklearn\\linear_model\\_coordinate_descent.py:472: ConvergenceWarning: Objective did not converge. You might want to increase the number of iterations. Duality gap: 209637841.68762887, tolerance: 245873.15240120146\n",
      "  tol, rng, random, positive)\n",
      "C:\\Users\\mukeshkumar.selvan\\AppData\\Roaming\\Python\\Python37\\site-packages\\sklearn\\linear_model\\_coordinate_descent.py:472: ConvergenceWarning: Objective did not converge. You might want to increase the number of iterations. Duality gap: 40242742.76174736, tolerance: 245873.15240120146\n",
      "  tol, rng, random, positive)\n",
      "C:\\Users\\mukeshkumar.selvan\\AppData\\Roaming\\Python\\Python37\\site-packages\\sklearn\\linear_model\\_coordinate_descent.py:472: ConvergenceWarning: Objective did not converge. You might want to increase the number of iterations. Duality gap: 16452642.778114557, tolerance: 238342.5729839574\n",
      "  tol, rng, random, positive)\n",
      "C:\\Users\\mukeshkumar.selvan\\AppData\\Roaming\\Python\\Python37\\site-packages\\sklearn\\linear_model\\_coordinate_descent.py:472: ConvergenceWarning: Objective did not converge. You might want to increase the number of iterations. Duality gap: 16344402.433173656, tolerance: 238342.5729839574\n",
      "  tol, rng, random, positive)\n",
      "C:\\Users\\mukeshkumar.selvan\\AppData\\Roaming\\Python\\Python37\\site-packages\\sklearn\\linear_model\\_coordinate_descent.py:472: ConvergenceWarning: Objective did not converge. You might want to increase the number of iterations. Duality gap: 64082510.67560065, tolerance: 230893.6986760361\n",
      "  tol, rng, random, positive)\n",
      "C:\\Users\\mukeshkumar.selvan\\AppData\\Roaming\\Python\\Python37\\site-packages\\sklearn\\linear_model\\_coordinate_descent.py:472: ConvergenceWarning: Objective did not converge. You might want to increase the number of iterations. Duality gap: 443379498.1789877, tolerance: 230893.6986760361\n",
      "  tol, rng, random, positive)\n",
      "C:\\Users\\mukeshkumar.selvan\\AppData\\Roaming\\Python\\Python37\\site-packages\\sklearn\\linear_model\\_coordinate_descent.py:472: ConvergenceWarning: Objective did not converge. You might want to increase the number of iterations. Duality gap: 28707594.58793187, tolerance: 237817.20321424957\n",
      "  tol, rng, random, positive)\n",
      "C:\\Users\\mukeshkumar.selvan\\AppData\\Roaming\\Python\\Python37\\site-packages\\sklearn\\linear_model\\_coordinate_descent.py:472: ConvergenceWarning: Objective did not converge. You might want to increase the number of iterations. Duality gap: 8771760.203471184, tolerance: 237817.20321424957\n",
      "  tol, rng, random, positive)\n",
      "C:\\Users\\mukeshkumar.selvan\\AppData\\Roaming\\Python\\Python37\\site-packages\\sklearn\\linear_model\\_coordinate_descent.py:472: ConvergenceWarning: Objective did not converge. You might want to increase the number of iterations. Duality gap: 53876839.18041611, tolerance: 234990.04607082362\n",
      "  tol, rng, random, positive)\n",
      "C:\\Users\\mukeshkumar.selvan\\AppData\\Roaming\\Python\\Python37\\site-packages\\sklearn\\linear_model\\_coordinate_descent.py:472: ConvergenceWarning: Objective did not converge. You might want to increase the number of iterations. Duality gap: 55920370.333622694, tolerance: 234990.04607082362\n",
      "  tol, rng, random, positive)\n",
      "C:\\Users\\mukeshkumar.selvan\\AppData\\Roaming\\Python\\Python37\\site-packages\\sklearn\\linear_model\\_coordinate_descent.py:472: ConvergenceWarning: Objective did not converge. You might want to increase the number of iterations. Duality gap: 55775690.14977193, tolerance: 234990.04607082362\n",
      "  tol, rng, random, positive)\n"
     ]
    },
    {
     "data": {
      "text/plain": [
       "0.24104958015075661"
      ]
     },
     "execution_count": 123,
     "metadata": {},
     "output_type": "execute_result"
    }
   ],
   "source": [
    "from sklearn.datasets import load_diabetes\n",
    "from sklearn.linear_model import RidgeCV\n",
    "clf = LassoCV(alphas=[1e-4,1e-3, 1e-2, 1e-1, 1, 10,11,23,100]).fit(X, y)\n",
    "clf.score(X, y) "
   ]
  },
  {
   "cell_type": "code",
   "execution_count": 124,
   "metadata": {},
   "outputs": [
    {
     "data": {
      "text/plain": [
       "1.0"
      ]
     },
     "execution_count": 124,
     "metadata": {},
     "output_type": "execute_result"
    }
   ],
   "source": [
    "clf.alpha_"
   ]
  },
  {
   "cell_type": "code",
   "execution_count": 125,
   "metadata": {},
   "outputs": [
    {
     "data": {
      "text/plain": [
       "[0.0001, 0.001, 0.01, 0.1, 1, 10, 11, 23, 100]"
      ]
     },
     "execution_count": 125,
     "metadata": {},
     "output_type": "execute_result"
    }
   ],
   "source": [
    "clf.alphas"
   ]
  },
  {
   "cell_type": "code",
   "execution_count": 126,
   "metadata": {},
   "outputs": [],
   "source": [
    "elastic = ElasticNet(alpha=0.4,l1_ratio=0.5)"
   ]
  },
  {
   "cell_type": "code",
   "execution_count": 127,
   "metadata": {},
   "outputs": [
    {
     "name": "stdout",
     "output_type": "stream",
     "text": [
      "CrossValidation score =  650.9491079531888\n",
      "Train RMSE  : 648.7312643918542\n"
     ]
    }
   ],
   "source": [
    "model_fit(elastic, X, y, test_X, \"model_elastic_solution.xlsx\" )"
   ]
  },
  {
   "cell_type": "code",
   "execution_count": 1,
   "metadata": {},
   "outputs": [],
   "source": [
    "# Validating the model\n",
    "from xgboost.sklearn import XGBRegressor\n",
    "xgb_reg = XGBRegressor(learning_rate=1.0, max_depth=6, min_child_weight=40, seed=0)"
   ]
  },
  {
   "cell_type": "code",
   "execution_count": null,
   "metadata": {},
   "outputs": [],
   "source": [
    "xgb_reg.fit(X, y)\n",
    "predict = xgb_reg.predict(test_X)\n",
    "\n",
    "sample['Purchase'] = predict\n",
    "sample.to_csv('model_XGBOOST.csv', index=False)\n",
    "model_fit(xgb_reg, X, y, test_X, \"model_XGBOOST_solution.xlsx\" )"
   ]
  },
  {
   "cell_type": "code",
   "execution_count": 68,
   "metadata": {},
   "outputs": [
    {
     "name": "stderr",
     "output_type": "stream",
     "text": [
      "C:\\ProgramData\\Anaconda3\\lib\\site-packages\\xgboost\\core.py:587: FutureWarning: Series.base is deprecated and will be removed in a future version\n",
      "  if getattr(data, 'base', None) is not None and \\\n",
      "C:\\ProgramData\\Anaconda3\\lib\\site-packages\\xgboost\\core.py:588: FutureWarning: Series.base is deprecated and will be removed in a future version\n",
      "  data.base is not None and isinstance(data, np.ndarray) \\\n"
     ]
    },
    {
     "name": "stdout",
     "output_type": "stream",
     "text": [
      "[16:05:12] WARNING: C:/Jenkins/workspace/xgboost-win64_release_0.90/src/objective/regression_obj.cu:152: reg:linear is now deprecated in favor of reg:squarederror.\n",
      "[16:05:49] WARNING: C:/Jenkins/workspace/xgboost-win64_release_0.90/src/objective/regression_obj.cu:152: reg:linear is now deprecated in favor of reg:squarederror.\n"
     ]
    },
    {
     "name": "stderr",
     "output_type": "stream",
     "text": [
      "C:\\ProgramData\\Anaconda3\\lib\\site-packages\\xgboost\\core.py:587: FutureWarning: Series.base is deprecated and will be removed in a future version\n",
      "  if getattr(data, 'base', None) is not None and \\\n"
     ]
    },
    {
     "name": "stdout",
     "output_type": "stream",
     "text": [
      "[16:06:22] WARNING: C:/Jenkins/workspace/xgboost-win64_release_0.90/src/objective/regression_obj.cu:152: reg:linear is now deprecated in favor of reg:squarederror.\n"
     ]
    },
    {
     "name": "stderr",
     "output_type": "stream",
     "text": [
      "C:\\ProgramData\\Anaconda3\\lib\\site-packages\\xgboost\\core.py:587: FutureWarning: Series.base is deprecated and will be removed in a future version\n",
      "  if getattr(data, 'base', None) is not None and \\\n"
     ]
    },
    {
     "name": "stdout",
     "output_type": "stream",
     "text": [
      "[16:06:55] WARNING: C:/Jenkins/workspace/xgboost-win64_release_0.90/src/objective/regression_obj.cu:152: reg:linear is now deprecated in favor of reg:squarederror.\n"
     ]
    },
    {
     "name": "stderr",
     "output_type": "stream",
     "text": [
      "C:\\ProgramData\\Anaconda3\\lib\\site-packages\\xgboost\\core.py:587: FutureWarning: Series.base is deprecated and will be removed in a future version\n",
      "  if getattr(data, 'base', None) is not None and \\\n"
     ]
    },
    {
     "name": "stdout",
     "output_type": "stream",
     "text": [
      "[16:07:28] WARNING: C:/Jenkins/workspace/xgboost-win64_release_0.90/src/objective/regression_obj.cu:152: reg:linear is now deprecated in favor of reg:squarederror.\n"
     ]
    },
    {
     "name": "stderr",
     "output_type": "stream",
     "text": [
      "C:\\ProgramData\\Anaconda3\\lib\\site-packages\\xgboost\\core.py:587: FutureWarning: Series.base is deprecated and will be removed in a future version\n",
      "  if getattr(data, 'base', None) is not None and \\\n"
     ]
    },
    {
     "name": "stdout",
     "output_type": "stream",
     "text": [
      "[16:08:01] WARNING: C:/Jenkins/workspace/xgboost-win64_release_0.90/src/objective/regression_obj.cu:152: reg:linear is now deprecated in favor of reg:squarederror.\n"
     ]
    },
    {
     "name": "stderr",
     "output_type": "stream",
     "text": [
      "C:\\ProgramData\\Anaconda3\\lib\\site-packages\\xgboost\\core.py:587: FutureWarning: Series.base is deprecated and will be removed in a future version\n",
      "  if getattr(data, 'base', None) is not None and \\\n"
     ]
    },
    {
     "name": "stdout",
     "output_type": "stream",
     "text": [
      "[16:08:33] WARNING: C:/Jenkins/workspace/xgboost-win64_release_0.90/src/objective/regression_obj.cu:152: reg:linear is now deprecated in favor of reg:squarederror.\n"
     ]
    },
    {
     "name": "stderr",
     "output_type": "stream",
     "text": [
      "C:\\ProgramData\\Anaconda3\\lib\\site-packages\\xgboost\\core.py:587: FutureWarning: Series.base is deprecated and will be removed in a future version\n",
      "  if getattr(data, 'base', None) is not None and \\\n"
     ]
    },
    {
     "name": "stdout",
     "output_type": "stream",
     "text": [
      "[16:09:05] WARNING: C:/Jenkins/workspace/xgboost-win64_release_0.90/src/objective/regression_obj.cu:152: reg:linear is now deprecated in favor of reg:squarederror.\n"
     ]
    },
    {
     "name": "stderr",
     "output_type": "stream",
     "text": [
      "C:\\ProgramData\\Anaconda3\\lib\\site-packages\\xgboost\\core.py:587: FutureWarning: Series.base is deprecated and will be removed in a future version\n",
      "  if getattr(data, 'base', None) is not None and \\\n"
     ]
    },
    {
     "name": "stdout",
     "output_type": "stream",
     "text": [
      "[16:09:38] WARNING: C:/Jenkins/workspace/xgboost-win64_release_0.90/src/objective/regression_obj.cu:152: reg:linear is now deprecated in favor of reg:squarederror.\n"
     ]
    },
    {
     "name": "stderr",
     "output_type": "stream",
     "text": [
      "C:\\ProgramData\\Anaconda3\\lib\\site-packages\\xgboost\\core.py:587: FutureWarning: Series.base is deprecated and will be removed in a future version\n",
      "  if getattr(data, 'base', None) is not None and \\\n"
     ]
    },
    {
     "name": "stdout",
     "output_type": "stream",
     "text": [
      "[16:10:11] WARNING: C:/Jenkins/workspace/xgboost-win64_release_0.90/src/objective/regression_obj.cu:152: reg:linear is now deprecated in favor of reg:squarederror.\n"
     ]
    },
    {
     "name": "stderr",
     "output_type": "stream",
     "text": [
      "C:\\ProgramData\\Anaconda3\\lib\\site-packages\\xgboost\\core.py:587: FutureWarning: Series.base is deprecated and will be removed in a future version\n",
      "  if getattr(data, 'base', None) is not None and \\\n"
     ]
    },
    {
     "name": "stdout",
     "output_type": "stream",
     "text": [
      "[16:10:44] WARNING: C:/Jenkins/workspace/xgboost-win64_release_0.90/src/objective/regression_obj.cu:152: reg:linear is now deprecated in favor of reg:squarederror.\n"
     ]
    },
    {
     "name": "stderr",
     "output_type": "stream",
     "text": [
      "C:\\ProgramData\\Anaconda3\\lib\\site-packages\\xgboost\\core.py:587: FutureWarning: Series.base is deprecated and will be removed in a future version\n",
      "  if getattr(data, 'base', None) is not None and \\\n"
     ]
    },
    {
     "name": "stdout",
     "output_type": "stream",
     "text": [
      "[16:11:16] WARNING: C:/Jenkins/workspace/xgboost-win64_release_0.90/src/objective/regression_obj.cu:152: reg:linear is now deprecated in favor of reg:squarederror.\n"
     ]
    },
    {
     "name": "stderr",
     "output_type": "stream",
     "text": [
      "C:\\ProgramData\\Anaconda3\\lib\\site-packages\\xgboost\\core.py:587: FutureWarning: Series.base is deprecated and will be removed in a future version\n",
      "  if getattr(data, 'base', None) is not None and \\\n"
     ]
    },
    {
     "name": "stdout",
     "output_type": "stream",
     "text": [
      "[16:11:49] WARNING: C:/Jenkins/workspace/xgboost-win64_release_0.90/src/objective/regression_obj.cu:152: reg:linear is now deprecated in favor of reg:squarederror.\n"
     ]
    },
    {
     "name": "stderr",
     "output_type": "stream",
     "text": [
      "C:\\ProgramData\\Anaconda3\\lib\\site-packages\\xgboost\\core.py:587: FutureWarning: Series.base is deprecated and will be removed in a future version\n",
      "  if getattr(data, 'base', None) is not None and \\\n"
     ]
    },
    {
     "name": "stdout",
     "output_type": "stream",
     "text": [
      "[16:12:22] WARNING: C:/Jenkins/workspace/xgboost-win64_release_0.90/src/objective/regression_obj.cu:152: reg:linear is now deprecated in favor of reg:squarederror.\n"
     ]
    },
    {
     "name": "stderr",
     "output_type": "stream",
     "text": [
      "C:\\ProgramData\\Anaconda3\\lib\\site-packages\\xgboost\\core.py:587: FutureWarning: Series.base is deprecated and will be removed in a future version\n",
      "  if getattr(data, 'base', None) is not None and \\\n"
     ]
    },
    {
     "name": "stdout",
     "output_type": "stream",
     "text": [
      "[16:12:54] WARNING: C:/Jenkins/workspace/xgboost-win64_release_0.90/src/objective/regression_obj.cu:152: reg:linear is now deprecated in favor of reg:squarederror.\n"
     ]
    },
    {
     "name": "stderr",
     "output_type": "stream",
     "text": [
      "C:\\ProgramData\\Anaconda3\\lib\\site-packages\\xgboost\\core.py:587: FutureWarning: Series.base is deprecated and will be removed in a future version\n",
      "  if getattr(data, 'base', None) is not None and \\\n"
     ]
    },
    {
     "name": "stdout",
     "output_type": "stream",
     "text": [
      "[16:13:26] WARNING: C:/Jenkins/workspace/xgboost-win64_release_0.90/src/objective/regression_obj.cu:152: reg:linear is now deprecated in favor of reg:squarederror.\n"
     ]
    },
    {
     "name": "stderr",
     "output_type": "stream",
     "text": [
      "C:\\ProgramData\\Anaconda3\\lib\\site-packages\\xgboost\\core.py:587: FutureWarning: Series.base is deprecated and will be removed in a future version\n",
      "  if getattr(data, 'base', None) is not None and \\\n"
     ]
    },
    {
     "name": "stdout",
     "output_type": "stream",
     "text": [
      "[16:13:59] WARNING: C:/Jenkins/workspace/xgboost-win64_release_0.90/src/objective/regression_obj.cu:152: reg:linear is now deprecated in favor of reg:squarederror.\n"
     ]
    },
    {
     "name": "stderr",
     "output_type": "stream",
     "text": [
      "C:\\ProgramData\\Anaconda3\\lib\\site-packages\\xgboost\\core.py:587: FutureWarning: Series.base is deprecated and will be removed in a future version\n",
      "  if getattr(data, 'base', None) is not None and \\\n"
     ]
    },
    {
     "name": "stdout",
     "output_type": "stream",
     "text": [
      "[16:14:32] WARNING: C:/Jenkins/workspace/xgboost-win64_release_0.90/src/objective/regression_obj.cu:152: reg:linear is now deprecated in favor of reg:squarederror.\n"
     ]
    },
    {
     "name": "stderr",
     "output_type": "stream",
     "text": [
      "C:\\ProgramData\\Anaconda3\\lib\\site-packages\\xgboost\\core.py:587: FutureWarning: Series.base is deprecated and will be removed in a future version\n",
      "  if getattr(data, 'base', None) is not None and \\\n"
     ]
    },
    {
     "name": "stdout",
     "output_type": "stream",
     "text": [
      "[16:15:04] WARNING: C:/Jenkins/workspace/xgboost-win64_release_0.90/src/objective/regression_obj.cu:152: reg:linear is now deprecated in favor of reg:squarederror.\n"
     ]
    },
    {
     "name": "stderr",
     "output_type": "stream",
     "text": [
      "C:\\ProgramData\\Anaconda3\\lib\\site-packages\\xgboost\\core.py:587: FutureWarning: Series.base is deprecated and will be removed in a future version\n",
      "  if getattr(data, 'base', None) is not None and \\\n"
     ]
    },
    {
     "name": "stdout",
     "output_type": "stream",
     "text": [
      "[16:15:37] WARNING: C:/Jenkins/workspace/xgboost-win64_release_0.90/src/objective/regression_obj.cu:152: reg:linear is now deprecated in favor of reg:squarederror.\n"
     ]
    },
    {
     "name": "stderr",
     "output_type": "stream",
     "text": [
      "C:\\ProgramData\\Anaconda3\\lib\\site-packages\\xgboost\\core.py:587: FutureWarning: Series.base is deprecated and will be removed in a future version\n",
      "  if getattr(data, 'base', None) is not None and \\\n"
     ]
    },
    {
     "name": "stdout",
     "output_type": "stream",
     "text": [
      "[16:16:10] WARNING: C:/Jenkins/workspace/xgboost-win64_release_0.90/src/objective/regression_obj.cu:152: reg:linear is now deprecated in favor of reg:squarederror.\n",
      "CrossValidation score =  666.3282133746213\n",
      "Train RMSE  : 446.16729396805255\n"
     ]
    }
   ],
   "source": [
    "model_fit(xgb_reg, X, y, test_X, \"model_XGBOOST_solution.xlsx\" )"
   ]
  },
  {
   "cell_type": "code",
   "execution_count": 3,
   "metadata": {},
   "outputs": [],
   "source": [
    "def model_fit(model, X, y, test, fileName ):\n",
    "    model.fit(X,y)\n",
    "    print(\"CrossValidation score = \",np.sqrt(np.mean(np.abs(cross_val_score(model,X,y,cv=20,scoring=\"neg_mean_squared_error\")))))\n",
    "    y_pred = model.predict(X)\n",
    "    print(\"Train RMSE  :\",np.sqrt(mean_squared_error(y,y_pred)))\n",
    "    y_test_pred = model.predict(test)\n",
    "    \n",
    "    test_pred_df = pd.DataFrame(y_test_pred,columns= [\"Price\"])\n",
    "    \n",
    "    result = test_pred_df\n",
    "\n",
    "    result.to_excel(fileName,index = False)"
   ]
  },
  {
   "cell_type": "code",
   "execution_count": null,
   "metadata": {},
   "outputs": [],
   "source": []
  }
 ],
 "metadata": {
  "kernelspec": {
   "display_name": "Python 3",
   "language": "python",
   "name": "python3"
  },
  "language_info": {
   "codemirror_mode": {
    "name": "ipython",
    "version": 3
   },
   "file_extension": ".py",
   "mimetype": "text/x-python",
   "name": "python",
   "nbconvert_exporter": "python",
   "pygments_lexer": "ipython3",
   "version": "3.7.3"
  }
 },
 "nbformat": 4,
 "nbformat_minor": 2
}
